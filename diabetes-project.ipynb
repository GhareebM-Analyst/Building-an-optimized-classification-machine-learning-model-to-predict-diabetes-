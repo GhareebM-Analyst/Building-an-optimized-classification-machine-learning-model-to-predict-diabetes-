{
 "cells": [
  {
   "cell_type": "code",
   "execution_count": null,
   "id": "2e3573e3",
   "metadata": {},
   "outputs": [],
   "source": []
  },
  {
   "cell_type": "markdown",
   "id": "33df9b2a",
   "metadata": {},
   "source": [
    "Pima Indians Diabetes Database. for more information [click here](https://raw.githubusercontent.com/jbrownlee/Datasets/master/pima-indians-diabetes.names)"
   ]
  },
  {
   "cell_type": "code",
   "execution_count": 1,
   "id": "9c405a61",
   "metadata": {},
   "outputs": [],
   "source": [
    "import pandas as pd\n",
    "import numpy as np\n",
    "import matplotlib.pyplot as plt\n",
    "import scipy.stats as stats\n",
    "import seaborn as sns\n",
    "\n",
    "\n",
    "# for feature engineering\n",
    "\n",
    "from sklearn.preprocessing import StandardScaler\n",
    "\n",
    "from sklearn.compose import make_column_transformer\n",
    "# for one hot encoding with feature-engine\n",
    "\n",
    "from feature_engine import imputation as mdi\n",
    "from feature_engine import discretisation as dsc\n",
    "from feature_engine import encoding as ce\n",
    "from feature_engine import transformation as vt\n",
    "\n",
    "# for the model\n",
    "from sklearn.model_selection import train_test_split, GridSearchCV\n",
    "from sklearn.linear_model import LogisticRegression \n",
    "from sklearn.ensemble import RandomForestClassifier\n",
    "from sklearn.neighbors import KNeighborsClassifier\n",
    "from sklearn.svm import SVC\n",
    "from xgboost import XGBClassifier\n",
    "from sklearn.ensemble import GradientBoostingClassifier \n",
    "\n",
    "\n",
    "from yellowbrick.classifier import (\n",
    "    ClassificationReport,\n",
    "    DiscriminationThreshold,\n",
    "    PrecisionRecallCurve\n",
    ")\n",
    "\n",
    "\n",
    "\n",
    "from sklearn.ensemble import GradientBoostingClassifier\n",
    "from sklearn.ensemble import AdaBoostClassifier\n",
    "from sklearn.model_selection import StratifiedKFold, cross_val_score, cross_validate,KFold, RepeatedKFold\n",
    "\n",
    "from sklearn.metrics import (precision_recall_curve,\n",
    "                             PrecisionRecallDisplay)\n",
    "\n",
    "from sklearn.metrics import (\n",
    "    precision_score,\n",
    "    recall_score,\n",
    "    f1_score,\n",
    "    roc_auc_score,\n",
    "    accuracy_score,\n",
    "    precision_recall_fscore_support,\n",
    "    classification_report,\n",
    "    confusion_matrix, \n",
    "    ConfusionMatrixDisplay\n",
    ")\n",
    "\n",
    "from sklearn.pipeline import Pipeline"
   ]
  },
  {
   "cell_type": "code",
   "execution_count": 2,
   "id": "96f7ca9f",
   "metadata": {},
   "outputs": [
    {
     "data": {
      "text/html": [
       "<div>\n",
       "<style scoped>\n",
       "    .dataframe tbody tr th:only-of-type {\n",
       "        vertical-align: middle;\n",
       "    }\n",
       "\n",
       "    .dataframe tbody tr th {\n",
       "        vertical-align: top;\n",
       "    }\n",
       "\n",
       "    .dataframe thead th {\n",
       "        text-align: right;\n",
       "    }\n",
       "</style>\n",
       "<table border=\"1\" class=\"dataframe\">\n",
       "  <thead>\n",
       "    <tr style=\"text-align: right;\">\n",
       "      <th></th>\n",
       "      <th>pregnancy</th>\n",
       "      <th>glucose_level_2hr</th>\n",
       "      <th>Diastolic_BP</th>\n",
       "      <th>skin_fold_thickness</th>\n",
       "      <th>Insulin_2hrs</th>\n",
       "      <th>BMI</th>\n",
       "      <th>Diabetes_pedigree</th>\n",
       "      <th>Age</th>\n",
       "      <th>diabetes</th>\n",
       "    </tr>\n",
       "  </thead>\n",
       "  <tbody>\n",
       "    <tr>\n",
       "      <th>0</th>\n",
       "      <td>6</td>\n",
       "      <td>148</td>\n",
       "      <td>72</td>\n",
       "      <td>35</td>\n",
       "      <td>0</td>\n",
       "      <td>33.6</td>\n",
       "      <td>0.627</td>\n",
       "      <td>50</td>\n",
       "      <td>1</td>\n",
       "    </tr>\n",
       "    <tr>\n",
       "      <th>1</th>\n",
       "      <td>1</td>\n",
       "      <td>85</td>\n",
       "      <td>66</td>\n",
       "      <td>29</td>\n",
       "      <td>0</td>\n",
       "      <td>26.6</td>\n",
       "      <td>0.351</td>\n",
       "      <td>31</td>\n",
       "      <td>0</td>\n",
       "    </tr>\n",
       "    <tr>\n",
       "      <th>2</th>\n",
       "      <td>8</td>\n",
       "      <td>183</td>\n",
       "      <td>64</td>\n",
       "      <td>0</td>\n",
       "      <td>0</td>\n",
       "      <td>23.3</td>\n",
       "      <td>0.672</td>\n",
       "      <td>32</td>\n",
       "      <td>1</td>\n",
       "    </tr>\n",
       "    <tr>\n",
       "      <th>3</th>\n",
       "      <td>1</td>\n",
       "      <td>89</td>\n",
       "      <td>66</td>\n",
       "      <td>23</td>\n",
       "      <td>94</td>\n",
       "      <td>28.1</td>\n",
       "      <td>0.167</td>\n",
       "      <td>21</td>\n",
       "      <td>0</td>\n",
       "    </tr>\n",
       "    <tr>\n",
       "      <th>4</th>\n",
       "      <td>0</td>\n",
       "      <td>137</td>\n",
       "      <td>40</td>\n",
       "      <td>35</td>\n",
       "      <td>168</td>\n",
       "      <td>43.1</td>\n",
       "      <td>2.288</td>\n",
       "      <td>33</td>\n",
       "      <td>1</td>\n",
       "    </tr>\n",
       "  </tbody>\n",
       "</table>\n",
       "</div>"
      ],
      "text/plain": [
       "   pregnancy  glucose_level_2hr  Diastolic_BP  skin_fold_thickness  \\\n",
       "0          6                148            72                   35   \n",
       "1          1                 85            66                   29   \n",
       "2          8                183            64                    0   \n",
       "3          1                 89            66                   23   \n",
       "4          0                137            40                   35   \n",
       "\n",
       "   Insulin_2hrs   BMI  Diabetes_pedigree  Age  diabetes  \n",
       "0             0  33.6              0.627   50         1  \n",
       "1             0  26.6              0.351   31         0  \n",
       "2             0  23.3              0.672   32         1  \n",
       "3            94  28.1              0.167   21         0  \n",
       "4           168  43.1              2.288   33         1  "
      ]
     },
     "execution_count": 2,
     "metadata": {},
     "output_type": "execute_result"
    }
   ],
   "source": [
    "\n",
    "\n",
    "pd.set_option('display.max_columns', None)\n",
    "data = pd.read_csv('https://raw.githubusercontent.com/jbrownlee/Datasets/master/pima-indians-diabetes.csv', \n",
    "                   names=['pregnancy','glucose_level_2hr','Diastolic_BP','skin_fold_thickness','Insulin_2hrs',\n",
    "                          'BMI','Diabetes_pedigree','Age','diabetes'], header=None)\n",
    "data.head()"
   ]
  },
  {
   "cell_type": "markdown",
   "id": "9088f681",
   "metadata": {},
   "source": [
    "# Data analysis\n",
    "## Tareget analysis"
   ]
  },
  {
   "cell_type": "code",
   "execution_count": 3,
   "id": "5b2e18cd",
   "metadata": {},
   "outputs": [
    {
     "name": "stdout",
     "output_type": "stream",
     "text": [
      "<class 'pandas.core.frame.DataFrame'>\n",
      "RangeIndex: 768 entries, 0 to 767\n",
      "Data columns (total 9 columns):\n",
      " #   Column               Non-Null Count  Dtype  \n",
      "---  ------               --------------  -----  \n",
      " 0   pregnancy            768 non-null    int64  \n",
      " 1   glucose_level_2hr    768 non-null    int64  \n",
      " 2   Diastolic_BP         768 non-null    int64  \n",
      " 3   skin_fold_thickness  768 non-null    int64  \n",
      " 4   Insulin_2hrs         768 non-null    int64  \n",
      " 5   BMI                  768 non-null    float64\n",
      " 6   Diabetes_pedigree    768 non-null    float64\n",
      " 7   Age                  768 non-null    int64  \n",
      " 8   diabetes             768 non-null    int64  \n",
      "dtypes: float64(2), int64(7)\n",
      "memory usage: 54.1 KB\n"
     ]
    }
   ],
   "source": [
    "data.info()"
   ]
  },
  {
   "cell_type": "code",
   "execution_count": 4,
   "id": "cf1fc4e4",
   "metadata": {},
   "outputs": [
    {
     "data": {
      "text/plain": [
       "diabetes\n",
       "0    0.651042\n",
       "1    0.348958\n",
       "Name: proportion, dtype: float64"
      ]
     },
     "execution_count": 4,
     "metadata": {},
     "output_type": "execute_result"
    }
   ],
   "source": [
    "data.diabetes.value_counts(normalize=True)"
   ]
  },
  {
   "cell_type": "markdown",
   "id": "f22aca3e",
   "metadata": {},
   "source": [
    "## Features analysis\n",
    "### Classifying features according their type"
   ]
  },
  {
   "cell_type": "code",
   "execution_count": 5,
   "id": "25637f39",
   "metadata": {},
   "outputs": [
    {
     "data": {
      "text/plain": [
       "['pregnancy',\n",
       " 'glucose_level_2hr',\n",
       " 'Diastolic_BP',\n",
       " 'skin_fold_thickness',\n",
       " 'Insulin_2hrs',\n",
       " 'BMI',\n",
       " 'Diabetes_pedigree',\n",
       " 'Age']"
      ]
     },
     "execution_count": 5,
     "metadata": {},
     "output_type": "execute_result"
    }
   ],
   "source": [
    "num_var = [var for var in data.columns  if  var!='diabetes']\n",
    "num_var"
   ]
  },
  {
   "cell_type": "code",
   "execution_count": 6,
   "id": "3ce4beff",
   "metadata": {},
   "outputs": [
    {
     "data": {
      "text/html": [
       "<div>\n",
       "<style scoped>\n",
       "    .dataframe tbody tr th:only-of-type {\n",
       "        vertical-align: middle;\n",
       "    }\n",
       "\n",
       "    .dataframe tbody tr th {\n",
       "        vertical-align: top;\n",
       "    }\n",
       "\n",
       "    .dataframe thead th {\n",
       "        text-align: right;\n",
       "    }\n",
       "</style>\n",
       "<table border=\"1\" class=\"dataframe\">\n",
       "  <thead>\n",
       "    <tr style=\"text-align: right;\">\n",
       "      <th></th>\n",
       "      <th>pregnancy</th>\n",
       "      <th>glucose_level_2hr</th>\n",
       "      <th>Diastolic_BP</th>\n",
       "      <th>skin_fold_thickness</th>\n",
       "      <th>Insulin_2hrs</th>\n",
       "      <th>BMI</th>\n",
       "      <th>Diabetes_pedigree</th>\n",
       "      <th>Age</th>\n",
       "    </tr>\n",
       "  </thead>\n",
       "  <tbody>\n",
       "    <tr>\n",
       "      <th>count</th>\n",
       "      <td>768.000000</td>\n",
       "      <td>768.000000</td>\n",
       "      <td>768.000000</td>\n",
       "      <td>768.000000</td>\n",
       "      <td>768.000000</td>\n",
       "      <td>768.000000</td>\n",
       "      <td>768.000000</td>\n",
       "      <td>768.000000</td>\n",
       "    </tr>\n",
       "    <tr>\n",
       "      <th>mean</th>\n",
       "      <td>3.845052</td>\n",
       "      <td>120.894531</td>\n",
       "      <td>69.105469</td>\n",
       "      <td>20.536458</td>\n",
       "      <td>79.799479</td>\n",
       "      <td>31.992578</td>\n",
       "      <td>0.471876</td>\n",
       "      <td>33.240885</td>\n",
       "    </tr>\n",
       "    <tr>\n",
       "      <th>std</th>\n",
       "      <td>3.369578</td>\n",
       "      <td>31.972618</td>\n",
       "      <td>19.355807</td>\n",
       "      <td>15.952218</td>\n",
       "      <td>115.244002</td>\n",
       "      <td>7.884160</td>\n",
       "      <td>0.331329</td>\n",
       "      <td>11.760232</td>\n",
       "    </tr>\n",
       "    <tr>\n",
       "      <th>min</th>\n",
       "      <td>0.000000</td>\n",
       "      <td>0.000000</td>\n",
       "      <td>0.000000</td>\n",
       "      <td>0.000000</td>\n",
       "      <td>0.000000</td>\n",
       "      <td>0.000000</td>\n",
       "      <td>0.078000</td>\n",
       "      <td>21.000000</td>\n",
       "    </tr>\n",
       "    <tr>\n",
       "      <th>25%</th>\n",
       "      <td>1.000000</td>\n",
       "      <td>99.000000</td>\n",
       "      <td>62.000000</td>\n",
       "      <td>0.000000</td>\n",
       "      <td>0.000000</td>\n",
       "      <td>27.300000</td>\n",
       "      <td>0.243750</td>\n",
       "      <td>24.000000</td>\n",
       "    </tr>\n",
       "    <tr>\n",
       "      <th>50%</th>\n",
       "      <td>3.000000</td>\n",
       "      <td>117.000000</td>\n",
       "      <td>72.000000</td>\n",
       "      <td>23.000000</td>\n",
       "      <td>30.500000</td>\n",
       "      <td>32.000000</td>\n",
       "      <td>0.372500</td>\n",
       "      <td>29.000000</td>\n",
       "    </tr>\n",
       "    <tr>\n",
       "      <th>75%</th>\n",
       "      <td>6.000000</td>\n",
       "      <td>140.250000</td>\n",
       "      <td>80.000000</td>\n",
       "      <td>32.000000</td>\n",
       "      <td>127.250000</td>\n",
       "      <td>36.600000</td>\n",
       "      <td>0.626250</td>\n",
       "      <td>41.000000</td>\n",
       "    </tr>\n",
       "    <tr>\n",
       "      <th>max</th>\n",
       "      <td>17.000000</td>\n",
       "      <td>199.000000</td>\n",
       "      <td>122.000000</td>\n",
       "      <td>99.000000</td>\n",
       "      <td>846.000000</td>\n",
       "      <td>67.100000</td>\n",
       "      <td>2.420000</td>\n",
       "      <td>81.000000</td>\n",
       "    </tr>\n",
       "  </tbody>\n",
       "</table>\n",
       "</div>"
      ],
      "text/plain": [
       "        pregnancy  glucose_level_2hr  Diastolic_BP  skin_fold_thickness  \\\n",
       "count  768.000000         768.000000    768.000000           768.000000   \n",
       "mean     3.845052         120.894531     69.105469            20.536458   \n",
       "std      3.369578          31.972618     19.355807            15.952218   \n",
       "min      0.000000           0.000000      0.000000             0.000000   \n",
       "25%      1.000000          99.000000     62.000000             0.000000   \n",
       "50%      3.000000         117.000000     72.000000            23.000000   \n",
       "75%      6.000000         140.250000     80.000000            32.000000   \n",
       "max     17.000000         199.000000    122.000000            99.000000   \n",
       "\n",
       "       Insulin_2hrs         BMI  Diabetes_pedigree         Age  \n",
       "count    768.000000  768.000000         768.000000  768.000000  \n",
       "mean      79.799479   31.992578           0.471876   33.240885  \n",
       "std      115.244002    7.884160           0.331329   11.760232  \n",
       "min        0.000000    0.000000           0.078000   21.000000  \n",
       "25%        0.000000   27.300000           0.243750   24.000000  \n",
       "50%       30.500000   32.000000           0.372500   29.000000  \n",
       "75%      127.250000   36.600000           0.626250   41.000000  \n",
       "max      846.000000   67.100000           2.420000   81.000000  "
      ]
     },
     "execution_count": 6,
     "metadata": {},
     "output_type": "execute_result"
    }
   ],
   "source": [
    "data[num_var].describe()"
   ]
  },
  {
   "cell_type": "code",
   "execution_count": 7,
   "id": "4ffb3cdc",
   "metadata": {},
   "outputs": [
    {
     "data": {
      "image/png": "[encoded data removed]",
      "text/plain": [
       "<Figure size 1500x1500 with 9 Axes>"
      ]
     },
     "metadata": {},
     "output_type": "display_data"
    }
   ],
   "source": [
    "data[num_var].hist(bins=30, figsize=(15,15))\n",
    "plt.show()"
   ]
  },
  {
   "cell_type": "code",
   "execution_count": null,
   "id": "031f7b95",
   "metadata": {},
   "outputs": [],
   "source": []
  },
  {
   "cell_type": "markdown",
   "id": "773694c9",
   "metadata": {},
   "source": [
    "Some variable (glucose_level_2hr, Diastolic_BP, skin_fold_thickness, Insulin_2hr, BMI) have 0 values which within normal range, therefore will be condsdered as missing values. Will replace with 'nan'"
   ]
  },
  {
   "cell_type": "code",
   "execution_count": null,
   "id": "fcb1bc33",
   "metadata": {},
   "outputs": [],
   "source": []
  },
  {
   "cell_type": "code",
   "execution_count": 8,
   "id": "cdcba7f5",
   "metadata": {},
   "outputs": [
    {
     "data": {
      "text/plain": [
       "['glucose_level_2hr',\n",
       " 'Diastolic_BP',\n",
       " 'skin_fold_thickness',\n",
       " 'Insulin_2hrs',\n",
       " 'BMI']"
      ]
     },
     "execution_count": 8,
     "metadata": {},
     "output_type": "execute_result"
    }
   ],
   "source": [
    "var_missing = ['glucose_level_2hr', 'Diastolic_BP', 'skin_fold_thickness', 'Insulin_2hrs', 'BMI']\n",
    "var_missing"
   ]
  },
  {
   "cell_type": "code",
   "execution_count": 9,
   "id": "6f52ca6d",
   "metadata": {},
   "outputs": [
    {
     "data": {
      "text/html": [
       "<div>\n",
       "<style scoped>\n",
       "    .dataframe tbody tr th:only-of-type {\n",
       "        vertical-align: middle;\n",
       "    }\n",
       "\n",
       "    .dataframe tbody tr th {\n",
       "        vertical-align: top;\n",
       "    }\n",
       "\n",
       "    .dataframe thead th {\n",
       "        text-align: right;\n",
       "    }\n",
       "</style>\n",
       "<table border=\"1\" class=\"dataframe\">\n",
       "  <thead>\n",
       "    <tr style=\"text-align: right;\">\n",
       "      <th></th>\n",
       "      <th>pregnancy</th>\n",
       "      <th>glucose_level_2hr</th>\n",
       "      <th>Diastolic_BP</th>\n",
       "      <th>skin_fold_thickness</th>\n",
       "      <th>Insulin_2hrs</th>\n",
       "      <th>BMI</th>\n",
       "      <th>Diabetes_pedigree</th>\n",
       "      <th>Age</th>\n",
       "      <th>diabetes</th>\n",
       "    </tr>\n",
       "  </thead>\n",
       "  <tbody>\n",
       "    <tr>\n",
       "      <th>count</th>\n",
       "      <td>768.000000</td>\n",
       "      <td>768.000000</td>\n",
       "      <td>768.000000</td>\n",
       "      <td>768.000000</td>\n",
       "      <td>768.000000</td>\n",
       "      <td>768.000000</td>\n",
       "      <td>768.000000</td>\n",
       "      <td>768.000000</td>\n",
       "      <td>768.000000</td>\n",
       "    </tr>\n",
       "    <tr>\n",
       "      <th>mean</th>\n",
       "      <td>3.845052</td>\n",
       "      <td>120.894531</td>\n",
       "      <td>69.105469</td>\n",
       "      <td>20.536458</td>\n",
       "      <td>79.799479</td>\n",
       "      <td>31.992578</td>\n",
       "      <td>0.471876</td>\n",
       "      <td>33.240885</td>\n",
       "      <td>0.348958</td>\n",
       "    </tr>\n",
       "    <tr>\n",
       "      <th>std</th>\n",
       "      <td>3.369578</td>\n",
       "      <td>31.972618</td>\n",
       "      <td>19.355807</td>\n",
       "      <td>15.952218</td>\n",
       "      <td>115.244002</td>\n",
       "      <td>7.884160</td>\n",
       "      <td>0.331329</td>\n",
       "      <td>11.760232</td>\n",
       "      <td>0.476951</td>\n",
       "    </tr>\n",
       "    <tr>\n",
       "      <th>min</th>\n",
       "      <td>0.000000</td>\n",
       "      <td>0.000000</td>\n",
       "      <td>0.000000</td>\n",
       "      <td>0.000000</td>\n",
       "      <td>0.000000</td>\n",
       "      <td>0.000000</td>\n",
       "      <td>0.078000</td>\n",
       "      <td>21.000000</td>\n",
       "      <td>0.000000</td>\n",
       "    </tr>\n",
       "    <tr>\n",
       "      <th>25%</th>\n",
       "      <td>1.000000</td>\n",
       "      <td>99.000000</td>\n",
       "      <td>62.000000</td>\n",
       "      <td>0.000000</td>\n",
       "      <td>0.000000</td>\n",
       "      <td>27.300000</td>\n",
       "      <td>0.243750</td>\n",
       "      <td>24.000000</td>\n",
       "      <td>0.000000</td>\n",
       "    </tr>\n",
       "    <tr>\n",
       "      <th>50%</th>\n",
       "      <td>3.000000</td>\n",
       "      <td>117.000000</td>\n",
       "      <td>72.000000</td>\n",
       "      <td>23.000000</td>\n",
       "      <td>30.500000</td>\n",
       "      <td>32.000000</td>\n",
       "      <td>0.372500</td>\n",
       "      <td>29.000000</td>\n",
       "      <td>0.000000</td>\n",
       "    </tr>\n",
       "    <tr>\n",
       "      <th>75%</th>\n",
       "      <td>6.000000</td>\n",
       "      <td>140.250000</td>\n",
       "      <td>80.000000</td>\n",
       "      <td>32.000000</td>\n",
       "      <td>127.250000</td>\n",
       "      <td>36.600000</td>\n",
       "      <td>0.626250</td>\n",
       "      <td>41.000000</td>\n",
       "      <td>1.000000</td>\n",
       "    </tr>\n",
       "    <tr>\n",
       "      <th>max</th>\n",
       "      <td>17.000000</td>\n",
       "      <td>199.000000</td>\n",
       "      <td>122.000000</td>\n",
       "      <td>99.000000</td>\n",
       "      <td>846.000000</td>\n",
       "      <td>67.100000</td>\n",
       "      <td>2.420000</td>\n",
       "      <td>81.000000</td>\n",
       "      <td>1.000000</td>\n",
       "    </tr>\n",
       "  </tbody>\n",
       "</table>\n",
       "</div>"
      ],
      "text/plain": [
       "        pregnancy  glucose_level_2hr  Diastolic_BP  skin_fold_thickness  \\\n",
       "count  768.000000         768.000000    768.000000           768.000000   \n",
       "mean     3.845052         120.894531     69.105469            20.536458   \n",
       "std      3.369578          31.972618     19.355807            15.952218   \n",
       "min      0.000000           0.000000      0.000000             0.000000   \n",
       "25%      1.000000          99.000000     62.000000             0.000000   \n",
       "50%      3.000000         117.000000     72.000000            23.000000   \n",
       "75%      6.000000         140.250000     80.000000            32.000000   \n",
       "max     17.000000         199.000000    122.000000            99.000000   \n",
       "\n",
       "       Insulin_2hrs         BMI  Diabetes_pedigree         Age    diabetes  \n",
       "count    768.000000  768.000000         768.000000  768.000000  768.000000  \n",
       "mean      79.799479   31.992578           0.471876   33.240885    0.348958  \n",
       "std      115.244002    7.884160           0.331329   11.760232    0.476951  \n",
       "min        0.000000    0.000000           0.078000   21.000000    0.000000  \n",
       "25%        0.000000   27.300000           0.243750   24.000000    0.000000  \n",
       "50%       30.500000   32.000000           0.372500   29.000000    0.000000  \n",
       "75%      127.250000   36.600000           0.626250   41.000000    1.000000  \n",
       "max      846.000000   67.100000           2.420000   81.000000    1.000000  "
      ]
     },
     "execution_count": 9,
     "metadata": {},
     "output_type": "execute_result"
    }
   ],
   "source": [
    "data2 = data.copy()\n",
    "data2.describe()"
   ]
  },
  {
   "cell_type": "code",
   "execution_count": 10,
   "id": "24c37bc7",
   "metadata": {},
   "outputs": [],
   "source": [
    "data2[var_missing]=data2[var_missing].replace(0, np.nan)"
   ]
  },
  {
   "cell_type": "code",
   "execution_count": 11,
   "id": "73f6d84b",
   "metadata": {},
   "outputs": [],
   "source": [
    "data2[var_missing] = data2[var_missing].replace({'0':np.nan, 0:np.nan})"
   ]
  },
  {
   "cell_type": "code",
   "execution_count": 12,
   "id": "b51b9905",
   "metadata": {},
   "outputs": [
    {
     "data": {
      "text/html": [
       "<div>\n",
       "<style scoped>\n",
       "    .dataframe tbody tr th:only-of-type {\n",
       "        vertical-align: middle;\n",
       "    }\n",
       "\n",
       "    .dataframe tbody tr th {\n",
       "        vertical-align: top;\n",
       "    }\n",
       "\n",
       "    .dataframe thead th {\n",
       "        text-align: right;\n",
       "    }\n",
       "</style>\n",
       "<table border=\"1\" class=\"dataframe\">\n",
       "  <thead>\n",
       "    <tr style=\"text-align: right;\">\n",
       "      <th></th>\n",
       "      <th>pregnancy</th>\n",
       "      <th>glucose_level_2hr</th>\n",
       "      <th>Diastolic_BP</th>\n",
       "      <th>skin_fold_thickness</th>\n",
       "      <th>Insulin_2hrs</th>\n",
       "      <th>BMI</th>\n",
       "      <th>Diabetes_pedigree</th>\n",
       "      <th>Age</th>\n",
       "      <th>diabetes</th>\n",
       "    </tr>\n",
       "  </thead>\n",
       "  <tbody>\n",
       "    <tr>\n",
       "      <th>count</th>\n",
       "      <td>768.000000</td>\n",
       "      <td>763.000000</td>\n",
       "      <td>733.000000</td>\n",
       "      <td>541.000000</td>\n",
       "      <td>394.000000</td>\n",
       "      <td>757.000000</td>\n",
       "      <td>768.000000</td>\n",
       "      <td>768.000000</td>\n",
       "      <td>768.000000</td>\n",
       "    </tr>\n",
       "    <tr>\n",
       "      <th>mean</th>\n",
       "      <td>3.845052</td>\n",
       "      <td>121.686763</td>\n",
       "      <td>72.405184</td>\n",
       "      <td>29.153420</td>\n",
       "      <td>155.548223</td>\n",
       "      <td>32.457464</td>\n",
       "      <td>0.471876</td>\n",
       "      <td>33.240885</td>\n",
       "      <td>0.348958</td>\n",
       "    </tr>\n",
       "    <tr>\n",
       "      <th>std</th>\n",
       "      <td>3.369578</td>\n",
       "      <td>30.535641</td>\n",
       "      <td>12.382158</td>\n",
       "      <td>10.476982</td>\n",
       "      <td>118.775855</td>\n",
       "      <td>6.924988</td>\n",
       "      <td>0.331329</td>\n",
       "      <td>11.760232</td>\n",
       "      <td>0.476951</td>\n",
       "    </tr>\n",
       "    <tr>\n",
       "      <th>min</th>\n",
       "      <td>0.000000</td>\n",
       "      <td>44.000000</td>\n",
       "      <td>24.000000</td>\n",
       "      <td>7.000000</td>\n",
       "      <td>14.000000</td>\n",
       "      <td>18.200000</td>\n",
       "      <td>0.078000</td>\n",
       "      <td>21.000000</td>\n",
       "      <td>0.000000</td>\n",
       "    </tr>\n",
       "    <tr>\n",
       "      <th>25%</th>\n",
       "      <td>1.000000</td>\n",
       "      <td>99.000000</td>\n",
       "      <td>64.000000</td>\n",
       "      <td>22.000000</td>\n",
       "      <td>76.250000</td>\n",
       "      <td>27.500000</td>\n",
       "      <td>0.243750</td>\n",
       "      <td>24.000000</td>\n",
       "      <td>0.000000</td>\n",
       "    </tr>\n",
       "    <tr>\n",
       "      <th>50%</th>\n",
       "      <td>3.000000</td>\n",
       "      <td>117.000000</td>\n",
       "      <td>72.000000</td>\n",
       "      <td>29.000000</td>\n",
       "      <td>125.000000</td>\n",
       "      <td>32.300000</td>\n",
       "      <td>0.372500</td>\n",
       "      <td>29.000000</td>\n",
       "      <td>0.000000</td>\n",
       "    </tr>\n",
       "    <tr>\n",
       "      <th>75%</th>\n",
       "      <td>6.000000</td>\n",
       "      <td>141.000000</td>\n",
       "      <td>80.000000</td>\n",
       "      <td>36.000000</td>\n",
       "      <td>190.000000</td>\n",
       "      <td>36.600000</td>\n",
       "      <td>0.626250</td>\n",
       "      <td>41.000000</td>\n",
       "      <td>1.000000</td>\n",
       "    </tr>\n",
       "    <tr>\n",
       "      <th>max</th>\n",
       "      <td>17.000000</td>\n",
       "      <td>199.000000</td>\n",
       "      <td>122.000000</td>\n",
       "      <td>99.000000</td>\n",
       "      <td>846.000000</td>\n",
       "      <td>67.100000</td>\n",
       "      <td>2.420000</td>\n",
       "      <td>81.000000</td>\n",
       "      <td>1.000000</td>\n",
       "    </tr>\n",
       "  </tbody>\n",
       "</table>\n",
       "</div>"
      ],
      "text/plain": [
       "        pregnancy  glucose_level_2hr  Diastolic_BP  skin_fold_thickness  \\\n",
       "count  768.000000         763.000000    733.000000           541.000000   \n",
       "mean     3.845052         121.686763     72.405184            29.153420   \n",
       "std      3.369578          30.535641     12.382158            10.476982   \n",
       "min      0.000000          44.000000     24.000000             7.000000   \n",
       "25%      1.000000          99.000000     64.000000            22.000000   \n",
       "50%      3.000000         117.000000     72.000000            29.000000   \n",
       "75%      6.000000         141.000000     80.000000            36.000000   \n",
       "max     17.000000         199.000000    122.000000            99.000000   \n",
       "\n",
       "       Insulin_2hrs         BMI  Diabetes_pedigree         Age    diabetes  \n",
       "count    394.000000  757.000000         768.000000  768.000000  768.000000  \n",
       "mean     155.548223   32.457464           0.471876   33.240885    0.348958  \n",
       "std      118.775855    6.924988           0.331329   11.760232    0.476951  \n",
       "min       14.000000   18.200000           0.078000   21.000000    0.000000  \n",
       "25%       76.250000   27.500000           0.243750   24.000000    0.000000  \n",
       "50%      125.000000   32.300000           0.372500   29.000000    0.000000  \n",
       "75%      190.000000   36.600000           0.626250   41.000000    1.000000  \n",
       "max      846.000000   67.100000           2.420000   81.000000    1.000000  "
      ]
     },
     "execution_count": 12,
     "metadata": {},
     "output_type": "execute_result"
    }
   ],
   "source": [
    "data2.describe()\n"
   ]
  },
  {
   "cell_type": "code",
   "execution_count": 13,
   "id": "038922fb",
   "metadata": {},
   "outputs": [
    {
     "data": {
      "image/png": "[encoded data removed]",
      "text/plain": [
       "<Figure size 1500x1500 with 6 Axes>"
      ]
     },
     "metadata": {},
     "output_type": "display_data"
    }
   ],
   "source": [
    "data2[var_missing].hist(bins=30, figsize=(15,15))\n",
    "plt.show()"
   ]
  },
  {
   "cell_type": "code",
   "execution_count": null,
   "id": "7551bd9a",
   "metadata": {},
   "outputs": [],
   "source": []
  },
  {
   "cell_type": "markdown",
   "id": "c96e9bd1",
   "metadata": {},
   "source": [
    "Variables 'glucose_level_2hr' and  'Diastolic_BP' look normally distributed and 'nan' values will be imputed with mean.   'skin_fold_thickness', 'Insulin_2hrs', 'BMI' are right skewed therefore will be imputed with median."
   ]
  },
  {
   "cell_type": "code",
   "execution_count": null,
   "id": "72c7805b",
   "metadata": {},
   "outputs": [],
   "source": []
  },
  {
   "cell_type": "code",
   "execution_count": 14,
   "id": "ba5af500",
   "metadata": {},
   "outputs": [],
   "source": [
    "mean_ipmute = ['glucose_level_2hr','Diastolic_BP']"
   ]
  },
  {
   "cell_type": "code",
   "execution_count": 15,
   "id": "65d76a55",
   "metadata": {},
   "outputs": [],
   "source": [
    "median_impute = ['skin_fold_thickness', 'Insulin_2hrs', 'BMI']"
   ]
  },
  {
   "cell_type": "code",
   "execution_count": null,
   "id": "e2bea646",
   "metadata": {},
   "outputs": [],
   "source": []
  },
  {
   "cell_type": "markdown",
   "id": "1bf9352d",
   "metadata": {},
   "source": [
    "# Features  engineering\n",
    "## Mean and Median imputation"
   ]
  },
  {
   "cell_type": "code",
   "execution_count": 16,
   "id": "1ee9834c",
   "metadata": {},
   "outputs": [
    {
     "data": {
      "text/html": [
       "<style>#sk-container-id-1 {color: black;background-color: white;}#sk-container-id-1 pre{padding: 0;}#sk-container-id-1 div.sk-toggleable {background-color: white;}#sk-container-id-1 label.sk-toggleable__label {cursor: pointer;display: block;width: 100%;margin-bottom: 0;padding: 0.3em;box-sizing: border-box;text-align: center;}#sk-container-id-1 label.sk-toggleable__label-arrow:before {content: \"▸\";float: left;margin-right: 0.25em;color: #696969;}#sk-container-id-1 label.sk-toggleable__label-arrow:hover:before {color: black;}#sk-container-id-1 div.sk-estimator:hover label.sk-toggleable__label-arrow:before {color: black;}#sk-container-id-1 div.sk-toggleable__content {max-height: 0;max-width: 0;overflow: hidden;text-align: left;background-color: #f0f8ff;}#sk-container-id-1 div.sk-toggleable__content pre {margin: 0.2em;color: black;border-radius: 0.25em;background-color: #f0f8ff;}#sk-container-id-1 input.sk-toggleable__control:checked~div.sk-toggleable__content {max-height: 200px;max-width: 100%;overflow: auto;}#sk-container-id-1 input.sk-toggleable__control:checked~label.sk-toggleable__label-arrow:before {content: \"▾\";}#sk-container-id-1 div.sk-estimator input.sk-toggleable__control:checked~label.sk-toggleable__label {background-color: #d4ebff;}#sk-container-id-1 div.sk-label input.sk-toggleable__control:checked~label.sk-toggleable__label {background-color: #d4ebff;}#sk-container-id-1 input.sk-hidden--visually {border: 0;clip: rect(1px 1px 1px 1px);clip: rect(1px, 1px, 1px, 1px);height: 1px;margin: -1px;overflow: hidden;padding: 0;position: absolute;width: 1px;}#sk-container-id-1 div.sk-estimator {font-family: monospace;background-color: #f0f8ff;border: 1px dotted black;border-radius: 0.25em;box-sizing: border-box;margin-bottom: 0.5em;}#sk-container-id-1 div.sk-estimator:hover {background-color: #d4ebff;}#sk-container-id-1 div.sk-parallel-item::after {content: \"\";width: 100%;border-bottom: 1px solid gray;flex-grow: 1;}#sk-container-id-1 div.sk-label:hover label.sk-toggleable__label {background-color: #d4ebff;}#sk-container-id-1 div.sk-serial::before {content: \"\";position: absolute;border-left: 1px solid gray;box-sizing: border-box;top: 0;bottom: 0;left: 50%;z-index: 0;}#sk-container-id-1 div.sk-serial {display: flex;flex-direction: column;align-items: center;background-color: white;padding-right: 0.2em;padding-left: 0.2em;position: relative;}#sk-container-id-1 div.sk-item {position: relative;z-index: 1;}#sk-container-id-1 div.sk-parallel {display: flex;align-items: stretch;justify-content: center;background-color: white;position: relative;}#sk-container-id-1 div.sk-item::before, #sk-container-id-1 div.sk-parallel-item::before {content: \"\";position: absolute;border-left: 1px solid gray;box-sizing: border-box;top: 0;bottom: 0;left: 50%;z-index: -1;}#sk-container-id-1 div.sk-parallel-item {display: flex;flex-direction: column;z-index: 1;position: relative;background-color: white;}#sk-container-id-1 div.sk-parallel-item:first-child::after {align-self: flex-end;width: 50%;}#sk-container-id-1 div.sk-parallel-item:last-child::after {align-self: flex-start;width: 50%;}#sk-container-id-1 div.sk-parallel-item:only-child::after {width: 0;}#sk-container-id-1 div.sk-dashed-wrapped {border: 1px dashed gray;margin: 0 0.4em 0.5em 0.4em;box-sizing: border-box;padding-bottom: 0.4em;background-color: white;}#sk-container-id-1 div.sk-label label {font-family: monospace;font-weight: bold;display: inline-block;line-height: 1.2em;}#sk-container-id-1 div.sk-label-container {text-align: center;}#sk-container-id-1 div.sk-container {/* jupyter's `normalize.less` sets `[hidden] { display: none; }` but bootstrap.min.css set `[hidden] { display: none !important; }` so we also need the `!important` here to be able to override the default hidden behavior on the sphinx rendered scikit-learn.org. See: https://github.com/scikit-learn/scikit-learn/issues/21755 */display: inline-block !important;position: relative;}#sk-container-id-1 div.sk-text-repr-fallback {display: none;}</style><div id=\"sk-container-id-1\" class=\"sk-top-container\"><div class=\"sk-text-repr-fallback\"><pre>MeanMedianImputer(imputation_method=&#x27;mean&#x27;,\n",
       "                  variables=[&#x27;glucose_level_2hr&#x27;, &#x27;Diastolic_BP&#x27;])</pre><b>In a Jupyter environment, please rerun this cell to show the HTML representation or trust the notebook. <br />On GitHub, the HTML representation is unable to render, please try loading this page with nbviewer.org.</b></div><div class=\"sk-container\" hidden><div class=\"sk-item\"><div class=\"sk-estimator sk-toggleable\"><input class=\"sk-toggleable__control sk-hidden--visually\" id=\"sk-estimator-id-1\" type=\"checkbox\" checked><label for=\"sk-estimator-id-1\" class=\"sk-toggleable__label sk-toggleable__label-arrow\">MeanMedianImputer</label><div class=\"sk-toggleable__content\"><pre>MeanMedianImputer(imputation_method=&#x27;mean&#x27;,\n",
       "                  variables=[&#x27;glucose_level_2hr&#x27;, &#x27;Diastolic_BP&#x27;])</pre></div></div></div></div></div>"
      ],
      "text/plain": [
       "MeanMedianImputer(imputation_method='mean',\n",
       "                  variables=['glucose_level_2hr', 'Diastolic_BP'])"
      ]
     },
     "execution_count": 16,
     "metadata": {},
     "output_type": "execute_result"
    }
   ],
   "source": [
    "from feature_engine.imputation import MeanMedianImputer\n",
    "\n",
    "# Mean imputation\n",
    "mean_imputer = MeanMedianImputer(imputation_method='mean',variables =  mean_ipmute)\n",
    "mean_imputer.fit(data2)"
   ]
  },
  {
   "cell_type": "code",
   "execution_count": 17,
   "id": "f0ea5001",
   "metadata": {},
   "outputs": [
    {
     "data": {
      "text/plain": [
       "{'glucose_level_2hr': 121.6867627785059, 'Diastolic_BP': 72.40518417462484}"
      ]
     },
     "execution_count": 17,
     "metadata": {},
     "output_type": "execute_result"
    }
   ],
   "source": [
    "mean_imputer.imputer_dict_"
   ]
  },
  {
   "cell_type": "code",
   "execution_count": 18,
   "id": "80f4bdf7",
   "metadata": {},
   "outputs": [],
   "source": [
    "data2 = mean_imputer.transform(data2)"
   ]
  },
  {
   "cell_type": "code",
   "execution_count": null,
   "id": "e8c7e170",
   "metadata": {},
   "outputs": [],
   "source": []
  },
  {
   "cell_type": "code",
   "execution_count": 19,
   "id": "1c8952b1",
   "metadata": {},
   "outputs": [
    {
     "data": {
      "text/html": [
       "<style>#sk-container-id-2 {color: black;background-color: white;}#sk-container-id-2 pre{padding: 0;}#sk-container-id-2 div.sk-toggleable {background-color: white;}#sk-container-id-2 label.sk-toggleable__label {cursor: pointer;display: block;width: 100%;margin-bottom: 0;padding: 0.3em;box-sizing: border-box;text-align: center;}#sk-container-id-2 label.sk-toggleable__label-arrow:before {content: \"▸\";float: left;margin-right: 0.25em;color: #696969;}#sk-container-id-2 label.sk-toggleable__label-arrow:hover:before {color: black;}#sk-container-id-2 div.sk-estimator:hover label.sk-toggleable__label-arrow:before {color: black;}#sk-container-id-2 div.sk-toggleable__content {max-height: 0;max-width: 0;overflow: hidden;text-align: left;background-color: #f0f8ff;}#sk-container-id-2 div.sk-toggleable__content pre {margin: 0.2em;color: black;border-radius: 0.25em;background-color: #f0f8ff;}#sk-container-id-2 input.sk-toggleable__control:checked~div.sk-toggleable__content {max-height: 200px;max-width: 100%;overflow: auto;}#sk-container-id-2 input.sk-toggleable__control:checked~label.sk-toggleable__label-arrow:before {content: \"▾\";}#sk-container-id-2 div.sk-estimator input.sk-toggleable__control:checked~label.sk-toggleable__label {background-color: #d4ebff;}#sk-container-id-2 div.sk-label input.sk-toggleable__control:checked~label.sk-toggleable__label {background-color: #d4ebff;}#sk-container-id-2 input.sk-hidden--visually {border: 0;clip: rect(1px 1px 1px 1px);clip: rect(1px, 1px, 1px, 1px);height: 1px;margin: -1px;overflow: hidden;padding: 0;position: absolute;width: 1px;}#sk-container-id-2 div.sk-estimator {font-family: monospace;background-color: #f0f8ff;border: 1px dotted black;border-radius: 0.25em;box-sizing: border-box;margin-bottom: 0.5em;}#sk-container-id-2 div.sk-estimator:hover {background-color: #d4ebff;}#sk-container-id-2 div.sk-parallel-item::after {content: \"\";width: 100%;border-bottom: 1px solid gray;flex-grow: 1;}#sk-container-id-2 div.sk-label:hover label.sk-toggleable__label {background-color: #d4ebff;}#sk-container-id-2 div.sk-serial::before {content: \"\";position: absolute;border-left: 1px solid gray;box-sizing: border-box;top: 0;bottom: 0;left: 50%;z-index: 0;}#sk-container-id-2 div.sk-serial {display: flex;flex-direction: column;align-items: center;background-color: white;padding-right: 0.2em;padding-left: 0.2em;position: relative;}#sk-container-id-2 div.sk-item {position: relative;z-index: 1;}#sk-container-id-2 div.sk-parallel {display: flex;align-items: stretch;justify-content: center;background-color: white;position: relative;}#sk-container-id-2 div.sk-item::before, #sk-container-id-2 div.sk-parallel-item::before {content: \"\";position: absolute;border-left: 1px solid gray;box-sizing: border-box;top: 0;bottom: 0;left: 50%;z-index: -1;}#sk-container-id-2 div.sk-parallel-item {display: flex;flex-direction: column;z-index: 1;position: relative;background-color: white;}#sk-container-id-2 div.sk-parallel-item:first-child::after {align-self: flex-end;width: 50%;}#sk-container-id-2 div.sk-parallel-item:last-child::after {align-self: flex-start;width: 50%;}#sk-container-id-2 div.sk-parallel-item:only-child::after {width: 0;}#sk-container-id-2 div.sk-dashed-wrapped {border: 1px dashed gray;margin: 0 0.4em 0.5em 0.4em;box-sizing: border-box;padding-bottom: 0.4em;background-color: white;}#sk-container-id-2 div.sk-label label {font-family: monospace;font-weight: bold;display: inline-block;line-height: 1.2em;}#sk-container-id-2 div.sk-label-container {text-align: center;}#sk-container-id-2 div.sk-container {/* jupyter's `normalize.less` sets `[hidden] { display: none; }` but bootstrap.min.css set `[hidden] { display: none !important; }` so we also need the `!important` here to be able to override the default hidden behavior on the sphinx rendered scikit-learn.org. See: https://github.com/scikit-learn/scikit-learn/issues/21755 */display: inline-block !important;position: relative;}#sk-container-id-2 div.sk-text-repr-fallback {display: none;}</style><div id=\"sk-container-id-2\" class=\"sk-top-container\"><div class=\"sk-text-repr-fallback\"><pre>MeanMedianImputer(variables=[&#x27;skin_fold_thickness&#x27;, &#x27;Insulin_2hrs&#x27;, &#x27;BMI&#x27;])</pre><b>In a Jupyter environment, please rerun this cell to show the HTML representation or trust the notebook. <br />On GitHub, the HTML representation is unable to render, please try loading this page with nbviewer.org.</b></div><div class=\"sk-container\" hidden><div class=\"sk-item\"><div class=\"sk-estimator sk-toggleable\"><input class=\"sk-toggleable__control sk-hidden--visually\" id=\"sk-estimator-id-2\" type=\"checkbox\" checked><label for=\"sk-estimator-id-2\" class=\"sk-toggleable__label sk-toggleable__label-arrow\">MeanMedianImputer</label><div class=\"sk-toggleable__content\"><pre>MeanMedianImputer(variables=[&#x27;skin_fold_thickness&#x27;, &#x27;Insulin_2hrs&#x27;, &#x27;BMI&#x27;])</pre></div></div></div></div></div>"
      ],
      "text/plain": [
       "MeanMedianImputer(variables=['skin_fold_thickness', 'Insulin_2hrs', 'BMI'])"
      ]
     },
     "execution_count": 19,
     "metadata": {},
     "output_type": "execute_result"
    }
   ],
   "source": [
    "# Median imputation\n",
    "median_imputer = MeanMedianImputer(imputation_method='median',variables =  median_impute)\n",
    "median_imputer.fit(data2)"
   ]
  },
  {
   "cell_type": "code",
   "execution_count": 20,
   "id": "7cffb0f4",
   "metadata": {},
   "outputs": [
    {
     "data": {
      "text/plain": [
       "{'skin_fold_thickness': 29.0, 'Insulin_2hrs': 125.0, 'BMI': 32.3}"
      ]
     },
     "execution_count": 20,
     "metadata": {},
     "output_type": "execute_result"
    }
   ],
   "source": [
    "median_imputer.imputer_dict_"
   ]
  },
  {
   "cell_type": "code",
   "execution_count": 21,
   "id": "32428ccb",
   "metadata": {},
   "outputs": [],
   "source": [
    "data2 = median_imputer.transform(data2)"
   ]
  },
  {
   "cell_type": "code",
   "execution_count": 22,
   "id": "32a57aaa",
   "metadata": {},
   "outputs": [
    {
     "data": {
      "image/png": "[encoded data removed]",
      "text/plain": [
       "<Figure size 1500x1500 with 6 Axes>"
      ]
     },
     "metadata": {},
     "output_type": "display_data"
    }
   ],
   "source": [
    "data2[var_missing].hist(bins=30, figsize=(15,15))\n",
    "plt.show()"
   ]
  },
  {
   "cell_type": "code",
   "execution_count": null,
   "id": "c2609abe",
   "metadata": {},
   "outputs": [],
   "source": []
  },
  {
   "cell_type": "code",
   "execution_count": 23,
   "id": "883d6ae7",
   "metadata": {},
   "outputs": [],
   "source": [
    "data3 = data2.copy()"
   ]
  },
  {
   "cell_type": "code",
   "execution_count": 24,
   "id": "57b47712",
   "metadata": {},
   "outputs": [
    {
     "data": {
      "text/plain": [
       "['skin_fold_thickness', 'Insulin_2hrs', 'BMI']"
      ]
     },
     "execution_count": 24,
     "metadata": {},
     "output_type": "execute_result"
    }
   ],
   "source": [
    "median_impute"
   ]
  },
  {
   "cell_type": "markdown",
   "id": "1ac10009",
   "metadata": {},
   "source": [
    "## Data tansformation\n",
    "Transfrom variables that were median imputed as they show right skewness"
   ]
  },
  {
   "cell_type": "code",
   "execution_count": 25,
   "id": "23e86ebd",
   "metadata": {},
   "outputs": [],
   "source": [
    "import feature_engine.transformation as vt"
   ]
  },
  {
   "cell_type": "code",
   "execution_count": 26,
   "id": "d3595765",
   "metadata": {},
   "outputs": [
    {
     "data": {
      "text/html": [
       "<style>#sk-container-id-3 {color: black;background-color: white;}#sk-container-id-3 pre{padding: 0;}#sk-container-id-3 div.sk-toggleable {background-color: white;}#sk-container-id-3 label.sk-toggleable__label {cursor: pointer;display: block;width: 100%;margin-bottom: 0;padding: 0.3em;box-sizing: border-box;text-align: center;}#sk-container-id-3 label.sk-toggleable__label-arrow:before {content: \"▸\";float: left;margin-right: 0.25em;color: #696969;}#sk-container-id-3 label.sk-toggleable__label-arrow:hover:before {color: black;}#sk-container-id-3 div.sk-estimator:hover label.sk-toggleable__label-arrow:before {color: black;}#sk-container-id-3 div.sk-toggleable__content {max-height: 0;max-width: 0;overflow: hidden;text-align: left;background-color: #f0f8ff;}#sk-container-id-3 div.sk-toggleable__content pre {margin: 0.2em;color: black;border-radius: 0.25em;background-color: #f0f8ff;}#sk-container-id-3 input.sk-toggleable__control:checked~div.sk-toggleable__content {max-height: 200px;max-width: 100%;overflow: auto;}#sk-container-id-3 input.sk-toggleable__control:checked~label.sk-toggleable__label-arrow:before {content: \"▾\";}#sk-container-id-3 div.sk-estimator input.sk-toggleable__control:checked~label.sk-toggleable__label {background-color: #d4ebff;}#sk-container-id-3 div.sk-label input.sk-toggleable__control:checked~label.sk-toggleable__label {background-color: #d4ebff;}#sk-container-id-3 input.sk-hidden--visually {border: 0;clip: rect(1px 1px 1px 1px);clip: rect(1px, 1px, 1px, 1px);height: 1px;margin: -1px;overflow: hidden;padding: 0;position: absolute;width: 1px;}#sk-container-id-3 div.sk-estimator {font-family: monospace;background-color: #f0f8ff;border: 1px dotted black;border-radius: 0.25em;box-sizing: border-box;margin-bottom: 0.5em;}#sk-container-id-3 div.sk-estimator:hover {background-color: #d4ebff;}#sk-container-id-3 div.sk-parallel-item::after {content: \"\";width: 100%;border-bottom: 1px solid gray;flex-grow: 1;}#sk-container-id-3 div.sk-label:hover label.sk-toggleable__label {background-color: #d4ebff;}#sk-container-id-3 div.sk-serial::before {content: \"\";position: absolute;border-left: 1px solid gray;box-sizing: border-box;top: 0;bottom: 0;left: 50%;z-index: 0;}#sk-container-id-3 div.sk-serial {display: flex;flex-direction: column;align-items: center;background-color: white;padding-right: 0.2em;padding-left: 0.2em;position: relative;}#sk-container-id-3 div.sk-item {position: relative;z-index: 1;}#sk-container-id-3 div.sk-parallel {display: flex;align-items: stretch;justify-content: center;background-color: white;position: relative;}#sk-container-id-3 div.sk-item::before, #sk-container-id-3 div.sk-parallel-item::before {content: \"\";position: absolute;border-left: 1px solid gray;box-sizing: border-box;top: 0;bottom: 0;left: 50%;z-index: -1;}#sk-container-id-3 div.sk-parallel-item {display: flex;flex-direction: column;z-index: 1;position: relative;background-color: white;}#sk-container-id-3 div.sk-parallel-item:first-child::after {align-self: flex-end;width: 50%;}#sk-container-id-3 div.sk-parallel-item:last-child::after {align-self: flex-start;width: 50%;}#sk-container-id-3 div.sk-parallel-item:only-child::after {width: 0;}#sk-container-id-3 div.sk-dashed-wrapped {border: 1px dashed gray;margin: 0 0.4em 0.5em 0.4em;box-sizing: border-box;padding-bottom: 0.4em;background-color: white;}#sk-container-id-3 div.sk-label label {font-family: monospace;font-weight: bold;display: inline-block;line-height: 1.2em;}#sk-container-id-3 div.sk-label-container {text-align: center;}#sk-container-id-3 div.sk-container {/* jupyter's `normalize.less` sets `[hidden] { display: none; }` but bootstrap.min.css set `[hidden] { display: none !important; }` so we also need the `!important` here to be able to override the default hidden behavior on the sphinx rendered scikit-learn.org. See: https://github.com/scikit-learn/scikit-learn/issues/21755 */display: inline-block !important;position: relative;}#sk-container-id-3 div.sk-text-repr-fallback {display: none;}</style><div id=\"sk-container-id-3\" class=\"sk-top-container\"><div class=\"sk-text-repr-fallback\"><pre>LogTransformer(variables=[&#x27;skin_fold_thickness&#x27;, &#x27;Insulin_2hrs&#x27;, &#x27;BMI&#x27;])</pre><b>In a Jupyter environment, please rerun this cell to show the HTML representation or trust the notebook. <br />On GitHub, the HTML representation is unable to render, please try loading this page with nbviewer.org.</b></div><div class=\"sk-container\" hidden><div class=\"sk-item\"><div class=\"sk-estimator sk-toggleable\"><input class=\"sk-toggleable__control sk-hidden--visually\" id=\"sk-estimator-id-3\" type=\"checkbox\" checked><label for=\"sk-estimator-id-3\" class=\"sk-toggleable__label sk-toggleable__label-arrow\">LogTransformer</label><div class=\"sk-toggleable__content\"><pre>LogTransformer(variables=[&#x27;skin_fold_thickness&#x27;, &#x27;Insulin_2hrs&#x27;, &#x27;BMI&#x27;])</pre></div></div></div></div></div>"
      ],
      "text/plain": [
       "LogTransformer(variables=['skin_fold_thickness', 'Insulin_2hrs', 'BMI'])"
      ]
     },
     "execution_count": 26,
     "metadata": {},
     "output_type": "execute_result"
    }
   ],
   "source": [
    "lt = vt.LogTransformer(variables = median_impute)\n",
    "\n",
    "lt.fit(data3)"
   ]
  },
  {
   "cell_type": "code",
   "execution_count": 27,
   "id": "527c325b",
   "metadata": {},
   "outputs": [],
   "source": [
    "data3 = lt.transform(data3)"
   ]
  },
  {
   "cell_type": "code",
   "execution_count": null,
   "id": "dccdd3c9",
   "metadata": {},
   "outputs": [],
   "source": []
  },
  {
   "cell_type": "code",
   "execution_count": 28,
   "id": "0e3dc08f",
   "metadata": {},
   "outputs": [
    {
     "data": {
      "image/png": "[encoded data removed]",
      "text/plain": [
       "<Figure size 1500x1500 with 4 Axes>"
      ]
     },
     "metadata": {},
     "output_type": "display_data"
    }
   ],
   "source": [
    "data3[median_impute].hist(bins=30, figsize=(15,15))\n",
    "plt.show()"
   ]
  },
  {
   "cell_type": "code",
   "execution_count": null,
   "id": "1a5f9880",
   "metadata": {},
   "outputs": [],
   "source": []
  },
  {
   "cell_type": "markdown",
   "id": "690f8cb5",
   "metadata": {},
   "source": [
    "## Scaling"
   ]
  },
  {
   "cell_type": "code",
   "execution_count": 29,
   "id": "6420ba34",
   "metadata": {},
   "outputs": [],
   "source": [
    "from sklearn.preprocessing import StandardScaler\n",
    "from sklearn.compose import ColumnTransformer\n",
    "\n",
    "stand_scaler = ColumnTransformer(\n",
    "    transformers=[\n",
    "        (\"stand\", StandardScaler(), num_var)],remainder=\"passthrough\",\n",
    "    \n",
    ")"
   ]
  },
  {
   "cell_type": "code",
   "execution_count": 30,
   "id": "902d8950",
   "metadata": {},
   "outputs": [
    {
     "data": {
      "text/html": [
       "<style>#sk-container-id-4 {color: black;background-color: white;}#sk-container-id-4 pre{padding: 0;}#sk-container-id-4 div.sk-toggleable {background-color: white;}#sk-container-id-4 label.sk-toggleable__label {cursor: pointer;display: block;width: 100%;margin-bottom: 0;padding: 0.3em;box-sizing: border-box;text-align: center;}#sk-container-id-4 label.sk-toggleable__label-arrow:before {content: \"▸\";float: left;margin-right: 0.25em;color: #696969;}#sk-container-id-4 label.sk-toggleable__label-arrow:hover:before {color: black;}#sk-container-id-4 div.sk-estimator:hover label.sk-toggleable__label-arrow:before {color: black;}#sk-container-id-4 div.sk-toggleable__content {max-height: 0;max-width: 0;overflow: hidden;text-align: left;background-color: #f0f8ff;}#sk-container-id-4 div.sk-toggleable__content pre {margin: 0.2em;color: black;border-radius: 0.25em;background-color: #f0f8ff;}#sk-container-id-4 input.sk-toggleable__control:checked~div.sk-toggleable__content {max-height: 200px;max-width: 100%;overflow: auto;}#sk-container-id-4 input.sk-toggleable__control:checked~label.sk-toggleable__label-arrow:before {content: \"▾\";}#sk-container-id-4 div.sk-estimator input.sk-toggleable__control:checked~label.sk-toggleable__label {background-color: #d4ebff;}#sk-container-id-4 div.sk-label input.sk-toggleable__control:checked~label.sk-toggleable__label {background-color: #d4ebff;}#sk-container-id-4 input.sk-hidden--visually {border: 0;clip: rect(1px 1px 1px 1px);clip: rect(1px, 1px, 1px, 1px);height: 1px;margin: -1px;overflow: hidden;padding: 0;position: absolute;width: 1px;}#sk-container-id-4 div.sk-estimator {font-family: monospace;background-color: #f0f8ff;border: 1px dotted black;border-radius: 0.25em;box-sizing: border-box;margin-bottom: 0.5em;}#sk-container-id-4 div.sk-estimator:hover {background-color: #d4ebff;}#sk-container-id-4 div.sk-parallel-item::after {content: \"\";width: 100%;border-bottom: 1px solid gray;flex-grow: 1;}#sk-container-id-4 div.sk-label:hover label.sk-toggleable__label {background-color: #d4ebff;}#sk-container-id-4 div.sk-serial::before {content: \"\";position: absolute;border-left: 1px solid gray;box-sizing: border-box;top: 0;bottom: 0;left: 50%;z-index: 0;}#sk-container-id-4 div.sk-serial {display: flex;flex-direction: column;align-items: center;background-color: white;padding-right: 0.2em;padding-left: 0.2em;position: relative;}#sk-container-id-4 div.sk-item {position: relative;z-index: 1;}#sk-container-id-4 div.sk-parallel {display: flex;align-items: stretch;justify-content: center;background-color: white;position: relative;}#sk-container-id-4 div.sk-item::before, #sk-container-id-4 div.sk-parallel-item::before {content: \"\";position: absolute;border-left: 1px solid gray;box-sizing: border-box;top: 0;bottom: 0;left: 50%;z-index: -1;}#sk-container-id-4 div.sk-parallel-item {display: flex;flex-direction: column;z-index: 1;position: relative;background-color: white;}#sk-container-id-4 div.sk-parallel-item:first-child::after {align-self: flex-end;width: 50%;}#sk-container-id-4 div.sk-parallel-item:last-child::after {align-self: flex-start;width: 50%;}#sk-container-id-4 div.sk-parallel-item:only-child::after {width: 0;}#sk-container-id-4 div.sk-dashed-wrapped {border: 1px dashed gray;margin: 0 0.4em 0.5em 0.4em;box-sizing: border-box;padding-bottom: 0.4em;background-color: white;}#sk-container-id-4 div.sk-label label {font-family: monospace;font-weight: bold;display: inline-block;line-height: 1.2em;}#sk-container-id-4 div.sk-label-container {text-align: center;}#sk-container-id-4 div.sk-container {/* jupyter's `normalize.less` sets `[hidden] { display: none; }` but bootstrap.min.css set `[hidden] { display: none !important; }` so we also need the `!important` here to be able to override the default hidden behavior on the sphinx rendered scikit-learn.org. See: https://github.com/scikit-learn/scikit-learn/issues/21755 */display: inline-block !important;position: relative;}#sk-container-id-4 div.sk-text-repr-fallback {display: none;}</style><div id=\"sk-container-id-4\" class=\"sk-top-container\"><div class=\"sk-text-repr-fallback\"><pre>ColumnTransformer(remainder=&#x27;passthrough&#x27;,\n",
       "                  transformers=[(&#x27;stand&#x27;, StandardScaler(),\n",
       "                                 [&#x27;pregnancy&#x27;, &#x27;glucose_level_2hr&#x27;,\n",
       "                                  &#x27;Diastolic_BP&#x27;, &#x27;skin_fold_thickness&#x27;,\n",
       "                                  &#x27;Insulin_2hrs&#x27;, &#x27;BMI&#x27;, &#x27;Diabetes_pedigree&#x27;,\n",
       "                                  &#x27;Age&#x27;])])</pre><b>In a Jupyter environment, please rerun this cell to show the HTML representation or trust the notebook. <br />On GitHub, the HTML representation is unable to render, please try loading this page with nbviewer.org.</b></div><div class=\"sk-container\" hidden><div class=\"sk-item sk-dashed-wrapped\"><div class=\"sk-label-container\"><div class=\"sk-label sk-toggleable\"><input class=\"sk-toggleable__control sk-hidden--visually\" id=\"sk-estimator-id-4\" type=\"checkbox\" ><label for=\"sk-estimator-id-4\" class=\"sk-toggleable__label sk-toggleable__label-arrow\">ColumnTransformer</label><div class=\"sk-toggleable__content\"><pre>ColumnTransformer(remainder=&#x27;passthrough&#x27;,\n",
       "                  transformers=[(&#x27;stand&#x27;, StandardScaler(),\n",
       "                                 [&#x27;pregnancy&#x27;, &#x27;glucose_level_2hr&#x27;,\n",
       "                                  &#x27;Diastolic_BP&#x27;, &#x27;skin_fold_thickness&#x27;,\n",
       "                                  &#x27;Insulin_2hrs&#x27;, &#x27;BMI&#x27;, &#x27;Diabetes_pedigree&#x27;,\n",
       "                                  &#x27;Age&#x27;])])</pre></div></div></div><div class=\"sk-parallel\"><div class=\"sk-parallel-item\"><div class=\"sk-item\"><div class=\"sk-label-container\"><div class=\"sk-label sk-toggleable\"><input class=\"sk-toggleable__control sk-hidden--visually\" id=\"sk-estimator-id-5\" type=\"checkbox\" ><label for=\"sk-estimator-id-5\" class=\"sk-toggleable__label sk-toggleable__label-arrow\">stand</label><div class=\"sk-toggleable__content\"><pre>[&#x27;pregnancy&#x27;, &#x27;glucose_level_2hr&#x27;, &#x27;Diastolic_BP&#x27;, &#x27;skin_fold_thickness&#x27;, &#x27;Insulin_2hrs&#x27;, &#x27;BMI&#x27;, &#x27;Diabetes_pedigree&#x27;, &#x27;Age&#x27;]</pre></div></div></div><div class=\"sk-serial\"><div class=\"sk-item\"><div class=\"sk-estimator sk-toggleable\"><input class=\"sk-toggleable__control sk-hidden--visually\" id=\"sk-estimator-id-6\" type=\"checkbox\" ><label for=\"sk-estimator-id-6\" class=\"sk-toggleable__label sk-toggleable__label-arrow\">StandardScaler</label><div class=\"sk-toggleable__content\"><pre>StandardScaler()</pre></div></div></div></div></div></div><div class=\"sk-parallel-item\"><div class=\"sk-item\"><div class=\"sk-label-container\"><div class=\"sk-label sk-toggleable\"><input class=\"sk-toggleable__control sk-hidden--visually\" id=\"sk-estimator-id-7\" type=\"checkbox\" ><label for=\"sk-estimator-id-7\" class=\"sk-toggleable__label sk-toggleable__label-arrow\">remainder</label><div class=\"sk-toggleable__content\"><pre></pre></div></div></div><div class=\"sk-serial\"><div class=\"sk-item\"><div class=\"sk-estimator sk-toggleable\"><input class=\"sk-toggleable__control sk-hidden--visually\" id=\"sk-estimator-id-8\" type=\"checkbox\" ><label for=\"sk-estimator-id-8\" class=\"sk-toggleable__label sk-toggleable__label-arrow\">passthrough</label><div class=\"sk-toggleable__content\"><pre>passthrough</pre></div></div></div></div></div></div></div></div></div></div>"
      ],
      "text/plain": [
       "ColumnTransformer(remainder='passthrough',\n",
       "                  transformers=[('stand', StandardScaler(),\n",
       "                                 ['pregnancy', 'glucose_level_2hr',\n",
       "                                  'Diastolic_BP', 'skin_fold_thickness',\n",
       "                                  'Insulin_2hrs', 'BMI', 'Diabetes_pedigree',\n",
       "                                  'Age'])])"
      ]
     },
     "execution_count": 30,
     "metadata": {},
     "output_type": "execute_result"
    }
   ],
   "source": [
    "stand_scaler.set_output(transform=\"pandas\")"
   ]
  },
  {
   "cell_type": "code",
   "execution_count": 31,
   "id": "9a61fc9f",
   "metadata": {},
   "outputs": [
    {
     "data": {
      "text/html": [
       "<style>#sk-container-id-5 {color: black;background-color: white;}#sk-container-id-5 pre{padding: 0;}#sk-container-id-5 div.sk-toggleable {background-color: white;}#sk-container-id-5 label.sk-toggleable__label {cursor: pointer;display: block;width: 100%;margin-bottom: 0;padding: 0.3em;box-sizing: border-box;text-align: center;}#sk-container-id-5 label.sk-toggleable__label-arrow:before {content: \"▸\";float: left;margin-right: 0.25em;color: #696969;}#sk-container-id-5 label.sk-toggleable__label-arrow:hover:before {color: black;}#sk-container-id-5 div.sk-estimator:hover label.sk-toggleable__label-arrow:before {color: black;}#sk-container-id-5 div.sk-toggleable__content {max-height: 0;max-width: 0;overflow: hidden;text-align: left;background-color: #f0f8ff;}#sk-container-id-5 div.sk-toggleable__content pre {margin: 0.2em;color: black;border-radius: 0.25em;background-color: #f0f8ff;}#sk-container-id-5 input.sk-toggleable__control:checked~div.sk-toggleable__content {max-height: 200px;max-width: 100%;overflow: auto;}#sk-container-id-5 input.sk-toggleable__control:checked~label.sk-toggleable__label-arrow:before {content: \"▾\";}#sk-container-id-5 div.sk-estimator input.sk-toggleable__control:checked~label.sk-toggleable__label {background-color: #d4ebff;}#sk-container-id-5 div.sk-label input.sk-toggleable__control:checked~label.sk-toggleable__label {background-color: #d4ebff;}#sk-container-id-5 input.sk-hidden--visually {border: 0;clip: rect(1px 1px 1px 1px);clip: rect(1px, 1px, 1px, 1px);height: 1px;margin: -1px;overflow: hidden;padding: 0;position: absolute;width: 1px;}#sk-container-id-5 div.sk-estimator {font-family: monospace;background-color: #f0f8ff;border: 1px dotted black;border-radius: 0.25em;box-sizing: border-box;margin-bottom: 0.5em;}#sk-container-id-5 div.sk-estimator:hover {background-color: #d4ebff;}#sk-container-id-5 div.sk-parallel-item::after {content: \"\";width: 100%;border-bottom: 1px solid gray;flex-grow: 1;}#sk-container-id-5 div.sk-label:hover label.sk-toggleable__label {background-color: #d4ebff;}#sk-container-id-5 div.sk-serial::before {content: \"\";position: absolute;border-left: 1px solid gray;box-sizing: border-box;top: 0;bottom: 0;left: 50%;z-index: 0;}#sk-container-id-5 div.sk-serial {display: flex;flex-direction: column;align-items: center;background-color: white;padding-right: 0.2em;padding-left: 0.2em;position: relative;}#sk-container-id-5 div.sk-item {position: relative;z-index: 1;}#sk-container-id-5 div.sk-parallel {display: flex;align-items: stretch;justify-content: center;background-color: white;position: relative;}#sk-container-id-5 div.sk-item::before, #sk-container-id-5 div.sk-parallel-item::before {content: \"\";position: absolute;border-left: 1px solid gray;box-sizing: border-box;top: 0;bottom: 0;left: 50%;z-index: -1;}#sk-container-id-5 div.sk-parallel-item {display: flex;flex-direction: column;z-index: 1;position: relative;background-color: white;}#sk-container-id-5 div.sk-parallel-item:first-child::after {align-self: flex-end;width: 50%;}#sk-container-id-5 div.sk-parallel-item:last-child::after {align-self: flex-start;width: 50%;}#sk-container-id-5 div.sk-parallel-item:only-child::after {width: 0;}#sk-container-id-5 div.sk-dashed-wrapped {border: 1px dashed gray;margin: 0 0.4em 0.5em 0.4em;box-sizing: border-box;padding-bottom: 0.4em;background-color: white;}#sk-container-id-5 div.sk-label label {font-family: monospace;font-weight: bold;display: inline-block;line-height: 1.2em;}#sk-container-id-5 div.sk-label-container {text-align: center;}#sk-container-id-5 div.sk-container {/* jupyter's `normalize.less` sets `[hidden] { display: none; }` but bootstrap.min.css set `[hidden] { display: none !important; }` so we also need the `!important` here to be able to override the default hidden behavior on the sphinx rendered scikit-learn.org. See: https://github.com/scikit-learn/scikit-learn/issues/21755 */display: inline-block !important;position: relative;}#sk-container-id-5 div.sk-text-repr-fallback {display: none;}</style><div id=\"sk-container-id-5\" class=\"sk-top-container\"><div class=\"sk-text-repr-fallback\"><pre>ColumnTransformer(remainder=&#x27;passthrough&#x27;,\n",
       "                  transformers=[(&#x27;stand&#x27;, StandardScaler(),\n",
       "                                 [&#x27;pregnancy&#x27;, &#x27;glucose_level_2hr&#x27;,\n",
       "                                  &#x27;Diastolic_BP&#x27;, &#x27;skin_fold_thickness&#x27;,\n",
       "                                  &#x27;Insulin_2hrs&#x27;, &#x27;BMI&#x27;, &#x27;Diabetes_pedigree&#x27;,\n",
       "                                  &#x27;Age&#x27;])])</pre><b>In a Jupyter environment, please rerun this cell to show the HTML representation or trust the notebook. <br />On GitHub, the HTML representation is unable to render, please try loading this page with nbviewer.org.</b></div><div class=\"sk-container\" hidden><div class=\"sk-item sk-dashed-wrapped\"><div class=\"sk-label-container\"><div class=\"sk-label sk-toggleable\"><input class=\"sk-toggleable__control sk-hidden--visually\" id=\"sk-estimator-id-9\" type=\"checkbox\" ><label for=\"sk-estimator-id-9\" class=\"sk-toggleable__label sk-toggleable__label-arrow\">ColumnTransformer</label><div class=\"sk-toggleable__content\"><pre>ColumnTransformer(remainder=&#x27;passthrough&#x27;,\n",
       "                  transformers=[(&#x27;stand&#x27;, StandardScaler(),\n",
       "                                 [&#x27;pregnancy&#x27;, &#x27;glucose_level_2hr&#x27;,\n",
       "                                  &#x27;Diastolic_BP&#x27;, &#x27;skin_fold_thickness&#x27;,\n",
       "                                  &#x27;Insulin_2hrs&#x27;, &#x27;BMI&#x27;, &#x27;Diabetes_pedigree&#x27;,\n",
       "                                  &#x27;Age&#x27;])])</pre></div></div></div><div class=\"sk-parallel\"><div class=\"sk-parallel-item\"><div class=\"sk-item\"><div class=\"sk-label-container\"><div class=\"sk-label sk-toggleable\"><input class=\"sk-toggleable__control sk-hidden--visually\" id=\"sk-estimator-id-10\" type=\"checkbox\" ><label for=\"sk-estimator-id-10\" class=\"sk-toggleable__label sk-toggleable__label-arrow\">stand</label><div class=\"sk-toggleable__content\"><pre>[&#x27;pregnancy&#x27;, &#x27;glucose_level_2hr&#x27;, &#x27;Diastolic_BP&#x27;, &#x27;skin_fold_thickness&#x27;, &#x27;Insulin_2hrs&#x27;, &#x27;BMI&#x27;, &#x27;Diabetes_pedigree&#x27;, &#x27;Age&#x27;]</pre></div></div></div><div class=\"sk-serial\"><div class=\"sk-item\"><div class=\"sk-estimator sk-toggleable\"><input class=\"sk-toggleable__control sk-hidden--visually\" id=\"sk-estimator-id-11\" type=\"checkbox\" ><label for=\"sk-estimator-id-11\" class=\"sk-toggleable__label sk-toggleable__label-arrow\">StandardScaler</label><div class=\"sk-toggleable__content\"><pre>StandardScaler()</pre></div></div></div></div></div></div><div class=\"sk-parallel-item\"><div class=\"sk-item\"><div class=\"sk-label-container\"><div class=\"sk-label sk-toggleable\"><input class=\"sk-toggleable__control sk-hidden--visually\" id=\"sk-estimator-id-12\" type=\"checkbox\" ><label for=\"sk-estimator-id-12\" class=\"sk-toggleable__label sk-toggleable__label-arrow\">remainder</label><div class=\"sk-toggleable__content\"><pre>[&#x27;diabetes&#x27;]</pre></div></div></div><div class=\"sk-serial\"><div class=\"sk-item\"><div class=\"sk-estimator sk-toggleable\"><input class=\"sk-toggleable__control sk-hidden--visually\" id=\"sk-estimator-id-13\" type=\"checkbox\" ><label for=\"sk-estimator-id-13\" class=\"sk-toggleable__label sk-toggleable__label-arrow\">passthrough</label><div class=\"sk-toggleable__content\"><pre>passthrough</pre></div></div></div></div></div></div></div></div></div></div>"
      ],
      "text/plain": [
       "ColumnTransformer(remainder='passthrough',\n",
       "                  transformers=[('stand', StandardScaler(),\n",
       "                                 ['pregnancy', 'glucose_level_2hr',\n",
       "                                  'Diastolic_BP', 'skin_fold_thickness',\n",
       "                                  'Insulin_2hrs', 'BMI', 'Diabetes_pedigree',\n",
       "                                  'Age'])])"
      ]
     },
     "execution_count": 31,
     "metadata": {},
     "output_type": "execute_result"
    }
   ],
   "source": [
    "stand_scaler.fit(data3)"
   ]
  },
  {
   "cell_type": "code",
   "execution_count": 32,
   "id": "53207e23",
   "metadata": {},
   "outputs": [
    {
     "data": {
      "text/plain": [
       "[('stand',\n",
       "  StandardScaler(),\n",
       "  ['pregnancy',\n",
       "   'glucose_level_2hr',\n",
       "   'Diastolic_BP',\n",
       "   'skin_fold_thickness',\n",
       "   'Insulin_2hrs',\n",
       "   'BMI',\n",
       "   'Diabetes_pedigree',\n",
       "   'Age'])]"
      ]
     },
     "execution_count": 32,
     "metadata": {},
     "output_type": "execute_result"
    }
   ],
   "source": [
    "stand_scaler.transformers"
   ]
  },
  {
   "cell_type": "code",
   "execution_count": 33,
   "id": "0819ad91",
   "metadata": {},
   "outputs": [],
   "source": [
    "data3 = stand_scaler.transform(data3)"
   ]
  },
  {
   "cell_type": "code",
   "execution_count": null,
   "id": "378e860a",
   "metadata": {},
   "outputs": [],
   "source": []
  },
  {
   "cell_type": "code",
   "execution_count": 34,
   "id": "ce7da5df",
   "metadata": {},
   "outputs": [
    {
     "data": {
      "text/html": [
       "<div>\n",
       "<style scoped>\n",
       "    .dataframe tbody tr th:only-of-type {\n",
       "        vertical-align: middle;\n",
       "    }\n",
       "\n",
       "    .dataframe tbody tr th {\n",
       "        vertical-align: top;\n",
       "    }\n",
       "\n",
       "    .dataframe thead th {\n",
       "        text-align: right;\n",
       "    }\n",
       "</style>\n",
       "<table border=\"1\" class=\"dataframe\">\n",
       "  <thead>\n",
       "    <tr style=\"text-align: right;\">\n",
       "      <th></th>\n",
       "      <th>stand__pregnancy</th>\n",
       "      <th>stand__glucose_level_2hr</th>\n",
       "      <th>stand__Diastolic_BP</th>\n",
       "      <th>stand__skin_fold_thickness</th>\n",
       "      <th>stand__Insulin_2hrs</th>\n",
       "      <th>stand__BMI</th>\n",
       "      <th>stand__Diabetes_pedigree</th>\n",
       "      <th>stand__Age</th>\n",
       "      <th>remainder__diabetes</th>\n",
       "    </tr>\n",
       "  </thead>\n",
       "  <tbody>\n",
       "    <tr>\n",
       "      <th>0</th>\n",
       "      <td>0.639947</td>\n",
       "      <td>0.865108</td>\n",
       "      <td>-0.033518</td>\n",
       "      <td>0.712746</td>\n",
       "      <td>0.020801</td>\n",
       "      <td>0.269439</td>\n",
       "      <td>0.468492</td>\n",
       "      <td>1.425995</td>\n",
       "      <td>1</td>\n",
       "    </tr>\n",
       "    <tr>\n",
       "      <th>1</th>\n",
       "      <td>-0.844885</td>\n",
       "      <td>-1.206162</td>\n",
       "      <td>-0.529859</td>\n",
       "      <td>0.138720</td>\n",
       "      <td>0.020801</td>\n",
       "      <td>-0.839379</td>\n",
       "      <td>-0.365061</td>\n",
       "      <td>-0.190672</td>\n",
       "      <td>0</td>\n",
       "    </tr>\n",
       "    <tr>\n",
       "      <th>2</th>\n",
       "      <td>1.233880</td>\n",
       "      <td>2.015813</td>\n",
       "      <td>-0.695306</td>\n",
       "      <td>0.138720</td>\n",
       "      <td>0.020801</td>\n",
       "      <td>-1.468070</td>\n",
       "      <td>0.604397</td>\n",
       "      <td>-0.105584</td>\n",
       "      <td>1</td>\n",
       "    </tr>\n",
       "    <tr>\n",
       "      <th>3</th>\n",
       "      <td>-0.844885</td>\n",
       "      <td>-1.074652</td>\n",
       "      <td>-0.529859</td>\n",
       "      <td>-0.568850</td>\n",
       "      <td>-0.549172</td>\n",
       "      <td>-0.579002</td>\n",
       "      <td>-0.920763</td>\n",
       "      <td>-1.041549</td>\n",
       "      <td>0</td>\n",
       "    </tr>\n",
       "    <tr>\n",
       "      <th>4</th>\n",
       "      <td>-1.141852</td>\n",
       "      <td>0.503458</td>\n",
       "      <td>-2.680669</td>\n",
       "      <td>0.712746</td>\n",
       "      <td>0.612034</td>\n",
       "      <td>1.451265</td>\n",
       "      <td>5.484909</td>\n",
       "      <td>-0.020496</td>\n",
       "      <td>1</td>\n",
       "    </tr>\n",
       "  </tbody>\n",
       "</table>\n",
       "</div>"
      ],
      "text/plain": [
       "   stand__pregnancy  stand__glucose_level_2hr  stand__Diastolic_BP  \\\n",
       "0          0.639947                  0.865108            -0.033518   \n",
       "1         -0.844885                 -1.206162            -0.529859   \n",
       "2          1.233880                  2.015813            -0.695306   \n",
       "3         -0.844885                 -1.074652            -0.529859   \n",
       "4         -1.141852                  0.503458            -2.680669   \n",
       "\n",
       "   stand__skin_fold_thickness  stand__Insulin_2hrs  stand__BMI  \\\n",
       "0                    0.712746             0.020801    0.269439   \n",
       "1                    0.138720             0.020801   -0.839379   \n",
       "2                    0.138720             0.020801   -1.468070   \n",
       "3                   -0.568850            -0.549172   -0.579002   \n",
       "4                    0.712746             0.612034    1.451265   \n",
       "\n",
       "   stand__Diabetes_pedigree  stand__Age  remainder__diabetes  \n",
       "0                  0.468492    1.425995                    1  \n",
       "1                 -0.365061   -0.190672                    0  \n",
       "2                  0.604397   -0.105584                    1  \n",
       "3                 -0.920763   -1.041549                    0  \n",
       "4                  5.484909   -0.020496                    1  "
      ]
     },
     "execution_count": 34,
     "metadata": {},
     "output_type": "execute_result"
    }
   ],
   "source": [
    "data3.head()"
   ]
  },
  {
   "cell_type": "code",
   "execution_count": 35,
   "id": "925aa063",
   "metadata": {},
   "outputs": [],
   "source": [
    "data[var_missing] = data[var_missing].replace({'0':np.nan, 0:np.nan})"
   ]
  },
  {
   "cell_type": "code",
   "execution_count": 36,
   "id": "5dbfbf39",
   "metadata": {},
   "outputs": [
    {
     "data": {
      "text/html": [
       "<div>\n",
       "<style scoped>\n",
       "    .dataframe tbody tr th:only-of-type {\n",
       "        vertical-align: middle;\n",
       "    }\n",
       "\n",
       "    .dataframe tbody tr th {\n",
       "        vertical-align: top;\n",
       "    }\n",
       "\n",
       "    .dataframe thead th {\n",
       "        text-align: right;\n",
       "    }\n",
       "</style>\n",
       "<table border=\"1\" class=\"dataframe\">\n",
       "  <thead>\n",
       "    <tr style=\"text-align: right;\">\n",
       "      <th></th>\n",
       "      <th>pregnancy</th>\n",
       "      <th>glucose_level_2hr</th>\n",
       "      <th>Diastolic_BP</th>\n",
       "      <th>skin_fold_thickness</th>\n",
       "      <th>Insulin_2hrs</th>\n",
       "      <th>BMI</th>\n",
       "      <th>Diabetes_pedigree</th>\n",
       "      <th>Age</th>\n",
       "      <th>diabetes</th>\n",
       "    </tr>\n",
       "  </thead>\n",
       "  <tbody>\n",
       "    <tr>\n",
       "      <th>count</th>\n",
       "      <td>768.000000</td>\n",
       "      <td>768.000000</td>\n",
       "      <td>768.000000</td>\n",
       "      <td>768.000000</td>\n",
       "      <td>768.000000</td>\n",
       "      <td>768.000000</td>\n",
       "      <td>768.000000</td>\n",
       "      <td>768.000000</td>\n",
       "      <td>768.000000</td>\n",
       "    </tr>\n",
       "    <tr>\n",
       "      <th>mean</th>\n",
       "      <td>3.845052</td>\n",
       "      <td>121.686763</td>\n",
       "      <td>72.405184</td>\n",
       "      <td>29.108073</td>\n",
       "      <td>140.671875</td>\n",
       "      <td>32.455208</td>\n",
       "      <td>0.471876</td>\n",
       "      <td>33.240885</td>\n",
       "      <td>0.348958</td>\n",
       "    </tr>\n",
       "    <tr>\n",
       "      <th>std</th>\n",
       "      <td>3.369578</td>\n",
       "      <td>30.435949</td>\n",
       "      <td>12.096346</td>\n",
       "      <td>8.791221</td>\n",
       "      <td>86.383060</td>\n",
       "      <td>6.875177</td>\n",
       "      <td>0.331329</td>\n",
       "      <td>11.760232</td>\n",
       "      <td>0.476951</td>\n",
       "    </tr>\n",
       "    <tr>\n",
       "      <th>min</th>\n",
       "      <td>0.000000</td>\n",
       "      <td>44.000000</td>\n",
       "      <td>24.000000</td>\n",
       "      <td>7.000000</td>\n",
       "      <td>14.000000</td>\n",
       "      <td>18.200000</td>\n",
       "      <td>0.078000</td>\n",
       "      <td>21.000000</td>\n",
       "      <td>0.000000</td>\n",
       "    </tr>\n",
       "    <tr>\n",
       "      <th>25%</th>\n",
       "      <td>1.000000</td>\n",
       "      <td>99.750000</td>\n",
       "      <td>64.000000</td>\n",
       "      <td>25.000000</td>\n",
       "      <td>121.500000</td>\n",
       "      <td>27.500000</td>\n",
       "      <td>0.243750</td>\n",
       "      <td>24.000000</td>\n",
       "      <td>0.000000</td>\n",
       "    </tr>\n",
       "    <tr>\n",
       "      <th>50%</th>\n",
       "      <td>3.000000</td>\n",
       "      <td>117.000000</td>\n",
       "      <td>72.202592</td>\n",
       "      <td>29.000000</td>\n",
       "      <td>125.000000</td>\n",
       "      <td>32.300000</td>\n",
       "      <td>0.372500</td>\n",
       "      <td>29.000000</td>\n",
       "      <td>0.000000</td>\n",
       "    </tr>\n",
       "    <tr>\n",
       "      <th>75%</th>\n",
       "      <td>6.000000</td>\n",
       "      <td>140.250000</td>\n",
       "      <td>80.000000</td>\n",
       "      <td>32.000000</td>\n",
       "      <td>127.250000</td>\n",
       "      <td>36.600000</td>\n",
       "      <td>0.626250</td>\n",
       "      <td>41.000000</td>\n",
       "      <td>1.000000</td>\n",
       "    </tr>\n",
       "    <tr>\n",
       "      <th>max</th>\n",
       "      <td>17.000000</td>\n",
       "      <td>199.000000</td>\n",
       "      <td>122.000000</td>\n",
       "      <td>99.000000</td>\n",
       "      <td>846.000000</td>\n",
       "      <td>67.100000</td>\n",
       "      <td>2.420000</td>\n",
       "      <td>81.000000</td>\n",
       "      <td>1.000000</td>\n",
       "    </tr>\n",
       "  </tbody>\n",
       "</table>\n",
       "</div>"
      ],
      "text/plain": [
       "        pregnancy  glucose_level_2hr  Diastolic_BP  skin_fold_thickness  \\\n",
       "count  768.000000         768.000000    768.000000           768.000000   \n",
       "mean     3.845052         121.686763     72.405184            29.108073   \n",
       "std      3.369578          30.435949     12.096346             8.791221   \n",
       "min      0.000000          44.000000     24.000000             7.000000   \n",
       "25%      1.000000          99.750000     64.000000            25.000000   \n",
       "50%      3.000000         117.000000     72.202592            29.000000   \n",
       "75%      6.000000         140.250000     80.000000            32.000000   \n",
       "max     17.000000         199.000000    122.000000            99.000000   \n",
       "\n",
       "       Insulin_2hrs         BMI  Diabetes_pedigree         Age    diabetes  \n",
       "count    768.000000  768.000000         768.000000  768.000000  768.000000  \n",
       "mean     140.671875   32.455208           0.471876   33.240885    0.348958  \n",
       "std       86.383060    6.875177           0.331329   11.760232    0.476951  \n",
       "min       14.000000   18.200000           0.078000   21.000000    0.000000  \n",
       "25%      121.500000   27.500000           0.243750   24.000000    0.000000  \n",
       "50%      125.000000   32.300000           0.372500   29.000000    0.000000  \n",
       "75%      127.250000   36.600000           0.626250   41.000000    1.000000  \n",
       "max      846.000000   67.100000           2.420000   81.000000    1.000000  "
      ]
     },
     "execution_count": 36,
     "metadata": {},
     "output_type": "execute_result"
    }
   ],
   "source": [
    "data2.describe()"
   ]
  },
  {
   "cell_type": "code",
   "execution_count": null,
   "id": "815fcd38",
   "metadata": {},
   "outputs": [],
   "source": []
  },
  {
   "cell_type": "markdown",
   "id": "1fe18749",
   "metadata": {},
   "source": [
    "# Assembling pipeline"
   ]
  },
  {
   "cell_type": "code",
   "execution_count": 37,
   "id": "104e2217",
   "metadata": {},
   "outputs": [
    {
     "data": {
      "text/plain": [
       "((537, 8), (537,), (231, 8), (231,))"
      ]
     },
     "execution_count": 37,
     "metadata": {},
     "output_type": "execute_result"
    }
   ],
   "source": [
    "X_train, X_test, y_train, y_test = train_test_split(\n",
    "    data.drop(labels=['diabetes'], axis=1),  # drop the target\n",
    "    data['diabetes'],  # just the target\n",
    "    test_size=0.30,\n",
    "    random_state=0)\n",
    "\n",
    "X_train.shape, y_train.shape, X_test.shape, y_test.shape"
   ]
  },
  {
   "cell_type": "code",
   "execution_count": 38,
   "id": "67298523",
   "metadata": {},
   "outputs": [],
   "source": [
    "pipe = Pipeline ([('mean_imputation',mean_imputer),\n",
    "                         ('median_imputation', median_imputer),\n",
    "                         ('log_trans',lt),\n",
    "                         ('stand_scale', stand_scaler),])"
   ]
  },
  {
   "cell_type": "code",
   "execution_count": 39,
   "id": "0d782610",
   "metadata": {},
   "outputs": [
    {
     "data": {
      "text/html": [
       "<style>#sk-container-id-6 {color: black;background-color: white;}#sk-container-id-6 pre{padding: 0;}#sk-container-id-6 div.sk-toggleable {background-color: white;}#sk-container-id-6 label.sk-toggleable__label {cursor: pointer;display: block;width: 100%;margin-bottom: 0;padding: 0.3em;box-sizing: border-box;text-align: center;}#sk-container-id-6 label.sk-toggleable__label-arrow:before {content: \"▸\";float: left;margin-right: 0.25em;color: #696969;}#sk-container-id-6 label.sk-toggleable__label-arrow:hover:before {color: black;}#sk-container-id-6 div.sk-estimator:hover label.sk-toggleable__label-arrow:before {color: black;}#sk-container-id-6 div.sk-toggleable__content {max-height: 0;max-width: 0;overflow: hidden;text-align: left;background-color: #f0f8ff;}#sk-container-id-6 div.sk-toggleable__content pre {margin: 0.2em;color: black;border-radius: 0.25em;background-color: #f0f8ff;}#sk-container-id-6 input.sk-toggleable__control:checked~div.sk-toggleable__content {max-height: 200px;max-width: 100%;overflow: auto;}#sk-container-id-6 input.sk-toggleable__control:checked~label.sk-toggleable__label-arrow:before {content: \"▾\";}#sk-container-id-6 div.sk-estimator input.sk-toggleable__control:checked~label.sk-toggleable__label {background-color: #d4ebff;}#sk-container-id-6 div.sk-label input.sk-toggleable__control:checked~label.sk-toggleable__label {background-color: #d4ebff;}#sk-container-id-6 input.sk-hidden--visually {border: 0;clip: rect(1px 1px 1px 1px);clip: rect(1px, 1px, 1px, 1px);height: 1px;margin: -1px;overflow: hidden;padding: 0;position: absolute;width: 1px;}#sk-container-id-6 div.sk-estimator {font-family: monospace;background-color: #f0f8ff;border: 1px dotted black;border-radius: 0.25em;box-sizing: border-box;margin-bottom: 0.5em;}#sk-container-id-6 div.sk-estimator:hover {background-color: #d4ebff;}#sk-container-id-6 div.sk-parallel-item::after {content: \"\";width: 100%;border-bottom: 1px solid gray;flex-grow: 1;}#sk-container-id-6 div.sk-label:hover label.sk-toggleable__label {background-color: #d4ebff;}#sk-container-id-6 div.sk-serial::before {content: \"\";position: absolute;border-left: 1px solid gray;box-sizing: border-box;top: 0;bottom: 0;left: 50%;z-index: 0;}#sk-container-id-6 div.sk-serial {display: flex;flex-direction: column;align-items: center;background-color: white;padding-right: 0.2em;padding-left: 0.2em;position: relative;}#sk-container-id-6 div.sk-item {position: relative;z-index: 1;}#sk-container-id-6 div.sk-parallel {display: flex;align-items: stretch;justify-content: center;background-color: white;position: relative;}#sk-container-id-6 div.sk-item::before, #sk-container-id-6 div.sk-parallel-item::before {content: \"\";position: absolute;border-left: 1px solid gray;box-sizing: border-box;top: 0;bottom: 0;left: 50%;z-index: -1;}#sk-container-id-6 div.sk-parallel-item {display: flex;flex-direction: column;z-index: 1;position: relative;background-color: white;}#sk-container-id-6 div.sk-parallel-item:first-child::after {align-self: flex-end;width: 50%;}#sk-container-id-6 div.sk-parallel-item:last-child::after {align-self: flex-start;width: 50%;}#sk-container-id-6 div.sk-parallel-item:only-child::after {width: 0;}#sk-container-id-6 div.sk-dashed-wrapped {border: 1px dashed gray;margin: 0 0.4em 0.5em 0.4em;box-sizing: border-box;padding-bottom: 0.4em;background-color: white;}#sk-container-id-6 div.sk-label label {font-family: monospace;font-weight: bold;display: inline-block;line-height: 1.2em;}#sk-container-id-6 div.sk-label-container {text-align: center;}#sk-container-id-6 div.sk-container {/* jupyter's `normalize.less` sets `[hidden] { display: none; }` but bootstrap.min.css set `[hidden] { display: none !important; }` so we also need the `!important` here to be able to override the default hidden behavior on the sphinx rendered scikit-learn.org. See: https://github.com/scikit-learn/scikit-learn/issues/21755 */display: inline-block !important;position: relative;}#sk-container-id-6 div.sk-text-repr-fallback {display: none;}</style><div id=\"sk-container-id-6\" class=\"sk-top-container\"><div class=\"sk-text-repr-fallback\"><pre>Pipeline(steps=[(&#x27;mean_imputation&#x27;,\n",
       "                 MeanMedianImputer(imputation_method=&#x27;mean&#x27;,\n",
       "                                   variables=[&#x27;glucose_level_2hr&#x27;,\n",
       "                                              &#x27;Diastolic_BP&#x27;])),\n",
       "                (&#x27;median_imputation&#x27;,\n",
       "                 MeanMedianImputer(variables=[&#x27;skin_fold_thickness&#x27;,\n",
       "                                              &#x27;Insulin_2hrs&#x27;, &#x27;BMI&#x27;])),\n",
       "                (&#x27;log_trans&#x27;,\n",
       "                 LogTransformer(variables=[&#x27;skin_fold_thickness&#x27;,\n",
       "                                           &#x27;Insulin_2hrs&#x27;, &#x27;BMI&#x27;])),\n",
       "                (&#x27;stand_scale&#x27;,\n",
       "                 ColumnTransformer(remainder=&#x27;passthrough&#x27;,\n",
       "                                   transformers=[(&#x27;stand&#x27;, StandardScaler(),\n",
       "                                                  [&#x27;pregnancy&#x27;,\n",
       "                                                   &#x27;glucose_level_2hr&#x27;,\n",
       "                                                   &#x27;Diastolic_BP&#x27;,\n",
       "                                                   &#x27;skin_fold_thickness&#x27;,\n",
       "                                                   &#x27;Insulin_2hrs&#x27;, &#x27;BMI&#x27;,\n",
       "                                                   &#x27;Diabetes_pedigree&#x27;,\n",
       "                                                   &#x27;Age&#x27;])]))])</pre><b>In a Jupyter environment, please rerun this cell to show the HTML representation or trust the notebook. <br />On GitHub, the HTML representation is unable to render, please try loading this page with nbviewer.org.</b></div><div class=\"sk-container\" hidden><div class=\"sk-item sk-dashed-wrapped\"><div class=\"sk-label-container\"><div class=\"sk-label sk-toggleable\"><input class=\"sk-toggleable__control sk-hidden--visually\" id=\"sk-estimator-id-14\" type=\"checkbox\" ><label for=\"sk-estimator-id-14\" class=\"sk-toggleable__label sk-toggleable__label-arrow\">Pipeline</label><div class=\"sk-toggleable__content\"><pre>Pipeline(steps=[(&#x27;mean_imputation&#x27;,\n",
       "                 MeanMedianImputer(imputation_method=&#x27;mean&#x27;,\n",
       "                                   variables=[&#x27;glucose_level_2hr&#x27;,\n",
       "                                              &#x27;Diastolic_BP&#x27;])),\n",
       "                (&#x27;median_imputation&#x27;,\n",
       "                 MeanMedianImputer(variables=[&#x27;skin_fold_thickness&#x27;,\n",
       "                                              &#x27;Insulin_2hrs&#x27;, &#x27;BMI&#x27;])),\n",
       "                (&#x27;log_trans&#x27;,\n",
       "                 LogTransformer(variables=[&#x27;skin_fold_thickness&#x27;,\n",
       "                                           &#x27;Insulin_2hrs&#x27;, &#x27;BMI&#x27;])),\n",
       "                (&#x27;stand_scale&#x27;,\n",
       "                 ColumnTransformer(remainder=&#x27;passthrough&#x27;,\n",
       "                                   transformers=[(&#x27;stand&#x27;, StandardScaler(),\n",
       "                                                  [&#x27;pregnancy&#x27;,\n",
       "                                                   &#x27;glucose_level_2hr&#x27;,\n",
       "                                                   &#x27;Diastolic_BP&#x27;,\n",
       "                                                   &#x27;skin_fold_thickness&#x27;,\n",
       "                                                   &#x27;Insulin_2hrs&#x27;, &#x27;BMI&#x27;,\n",
       "                                                   &#x27;Diabetes_pedigree&#x27;,\n",
       "                                                   &#x27;Age&#x27;])]))])</pre></div></div></div><div class=\"sk-serial\"><div class=\"sk-item\"><div class=\"sk-estimator sk-toggleable\"><input class=\"sk-toggleable__control sk-hidden--visually\" id=\"sk-estimator-id-15\" type=\"checkbox\" ><label for=\"sk-estimator-id-15\" class=\"sk-toggleable__label sk-toggleable__label-arrow\">MeanMedianImputer</label><div class=\"sk-toggleable__content\"><pre>MeanMedianImputer(imputation_method=&#x27;mean&#x27;,\n",
       "                  variables=[&#x27;glucose_level_2hr&#x27;, &#x27;Diastolic_BP&#x27;])</pre></div></div></div><div class=\"sk-item\"><div class=\"sk-estimator sk-toggleable\"><input class=\"sk-toggleable__control sk-hidden--visually\" id=\"sk-estimator-id-16\" type=\"checkbox\" ><label for=\"sk-estimator-id-16\" class=\"sk-toggleable__label sk-toggleable__label-arrow\">MeanMedianImputer</label><div class=\"sk-toggleable__content\"><pre>MeanMedianImputer(variables=[&#x27;skin_fold_thickness&#x27;, &#x27;Insulin_2hrs&#x27;, &#x27;BMI&#x27;])</pre></div></div></div><div class=\"sk-item\"><div class=\"sk-estimator sk-toggleable\"><input class=\"sk-toggleable__control sk-hidden--visually\" id=\"sk-estimator-id-17\" type=\"checkbox\" ><label for=\"sk-estimator-id-17\" class=\"sk-toggleable__label sk-toggleable__label-arrow\">LogTransformer</label><div class=\"sk-toggleable__content\"><pre>LogTransformer(variables=[&#x27;skin_fold_thickness&#x27;, &#x27;Insulin_2hrs&#x27;, &#x27;BMI&#x27;])</pre></div></div></div><div class=\"sk-item sk-dashed-wrapped\"><div class=\"sk-label-container\"><div class=\"sk-label sk-toggleable\"><input class=\"sk-toggleable__control sk-hidden--visually\" id=\"sk-estimator-id-18\" type=\"checkbox\" ><label for=\"sk-estimator-id-18\" class=\"sk-toggleable__label sk-toggleable__label-arrow\">stand_scale: ColumnTransformer</label><div class=\"sk-toggleable__content\"><pre>ColumnTransformer(remainder=&#x27;passthrough&#x27;,\n",
       "                  transformers=[(&#x27;stand&#x27;, StandardScaler(),\n",
       "                                 [&#x27;pregnancy&#x27;, &#x27;glucose_level_2hr&#x27;,\n",
       "                                  &#x27;Diastolic_BP&#x27;, &#x27;skin_fold_thickness&#x27;,\n",
       "                                  &#x27;Insulin_2hrs&#x27;, &#x27;BMI&#x27;, &#x27;Diabetes_pedigree&#x27;,\n",
       "                                  &#x27;Age&#x27;])])</pre></div></div></div><div class=\"sk-parallel\"><div class=\"sk-parallel-item\"><div class=\"sk-item\"><div class=\"sk-label-container\"><div class=\"sk-label sk-toggleable\"><input class=\"sk-toggleable__control sk-hidden--visually\" id=\"sk-estimator-id-19\" type=\"checkbox\" ><label for=\"sk-estimator-id-19\" class=\"sk-toggleable__label sk-toggleable__label-arrow\">stand</label><div class=\"sk-toggleable__content\"><pre>[&#x27;pregnancy&#x27;, &#x27;glucose_level_2hr&#x27;, &#x27;Diastolic_BP&#x27;, &#x27;skin_fold_thickness&#x27;, &#x27;Insulin_2hrs&#x27;, &#x27;BMI&#x27;, &#x27;Diabetes_pedigree&#x27;, &#x27;Age&#x27;]</pre></div></div></div><div class=\"sk-serial\"><div class=\"sk-item\"><div class=\"sk-estimator sk-toggleable\"><input class=\"sk-toggleable__control sk-hidden--visually\" id=\"sk-estimator-id-20\" type=\"checkbox\" ><label for=\"sk-estimator-id-20\" class=\"sk-toggleable__label sk-toggleable__label-arrow\">StandardScaler</label><div class=\"sk-toggleable__content\"><pre>StandardScaler()</pre></div></div></div></div></div></div><div class=\"sk-parallel-item\"><div class=\"sk-item\"><div class=\"sk-label-container\"><div class=\"sk-label sk-toggleable\"><input class=\"sk-toggleable__control sk-hidden--visually\" id=\"sk-estimator-id-21\" type=\"checkbox\" ><label for=\"sk-estimator-id-21\" class=\"sk-toggleable__label sk-toggleable__label-arrow\">remainder</label><div class=\"sk-toggleable__content\"><pre>[]</pre></div></div></div><div class=\"sk-serial\"><div class=\"sk-item\"><div class=\"sk-estimator sk-toggleable\"><input class=\"sk-toggleable__control sk-hidden--visually\" id=\"sk-estimator-id-22\" type=\"checkbox\" ><label for=\"sk-estimator-id-22\" class=\"sk-toggleable__label sk-toggleable__label-arrow\">passthrough</label><div class=\"sk-toggleable__content\"><pre>passthrough</pre></div></div></div></div></div></div></div></div></div></div></div></div>"
      ],
      "text/plain": [
       "Pipeline(steps=[('mean_imputation',\n",
       "                 MeanMedianImputer(imputation_method='mean',\n",
       "                                   variables=['glucose_level_2hr',\n",
       "                                              'Diastolic_BP'])),\n",
       "                ('median_imputation',\n",
       "                 MeanMedianImputer(variables=['skin_fold_thickness',\n",
       "                                              'Insulin_2hrs', 'BMI'])),\n",
       "                ('log_trans',\n",
       "                 LogTransformer(variables=['skin_fold_thickness',\n",
       "                                           'Insulin_2hrs', 'BMI'])),\n",
       "                ('stand_scale',\n",
       "                 ColumnTransformer(remainder='passthrough',\n",
       "                                   transformers=[('stand', StandardScaler(),\n",
       "                                                  ['pregnancy',\n",
       "                                                   'glucose_level_2hr',\n",
       "                                                   'Diastolic_BP',\n",
       "                                                   'skin_fold_thickness',\n",
       "                                                   'Insulin_2hrs', 'BMI',\n",
       "                                                   'Diabetes_pedigree',\n",
       "                                                   'Age'])]))])"
      ]
     },
     "execution_count": 39,
     "metadata": {},
     "output_type": "execute_result"
    }
   ],
   "source": [
    "# train the pipeline\n",
    "pipe.fit(X_train, y_train)"
   ]
  },
  {
   "cell_type": "code",
   "execution_count": null,
   "id": "0b212da8",
   "metadata": {},
   "outputs": [],
   "source": []
  },
  {
   "cell_type": "code",
   "execution_count": 40,
   "id": "7d372c98",
   "metadata": {},
   "outputs": [],
   "source": [
    "#transform datasets\n",
    "X_train = pipe.transform(X_train)\n",
    "X_test = pipe.transform(X_test)"
   ]
  },
  {
   "cell_type": "code",
   "execution_count": 41,
   "id": "d083f5da",
   "metadata": {},
   "outputs": [
    {
     "data": {
      "text/plain": [
       "[]"
      ]
     },
     "execution_count": 41,
     "metadata": {},
     "output_type": "execute_result"
    }
   ],
   "source": [
    "# check absence of na in the train set\n",
    "[var for var in X_train.columns if X_train[var].isnull().sum() > 0]"
   ]
  },
  {
   "cell_type": "code",
   "execution_count": 42,
   "id": "d995283f",
   "metadata": {},
   "outputs": [
    {
     "data": {
      "text/plain": [
       "[]"
      ]
     },
     "execution_count": 42,
     "metadata": {},
     "output_type": "execute_result"
    }
   ],
   "source": [
    "# check absence of na in the test set\n",
    "[var for var in X_test.columns if X_test[var].isnull().sum() > 0]"
   ]
  },
  {
   "cell_type": "code",
   "execution_count": null,
   "id": "98e4895b",
   "metadata": {},
   "outputs": [],
   "source": []
  },
  {
   "cell_type": "code",
   "execution_count": 43,
   "id": "d5b13362",
   "metadata": {},
   "outputs": [
    {
     "data": {
      "text/plain": [
       "{'glucose_level_2hr': 122.45590994371481, 'Diastolic_BP': 73.068359375}"
      ]
     },
     "execution_count": 43,
     "metadata": {},
     "output_type": "execute_result"
    }
   ],
   "source": [
    "# the parameters are learnt and stored in each step\n",
    "# of the pipeline\n",
    "\n",
    "pipe.named_steps['mean_imputation'].imputer_dict_"
   ]
  },
  {
   "cell_type": "code",
   "execution_count": 44,
   "id": "2d53826e",
   "metadata": {},
   "outputs": [
    {
     "data": {
      "text/html": [
       "<div>\n",
       "<style scoped>\n",
       "    .dataframe tbody tr th:only-of-type {\n",
       "        vertical-align: middle;\n",
       "    }\n",
       "\n",
       "    .dataframe tbody tr th {\n",
       "        vertical-align: top;\n",
       "    }\n",
       "\n",
       "    .dataframe thead th {\n",
       "        text-align: right;\n",
       "    }\n",
       "</style>\n",
       "<table border=\"1\" class=\"dataframe\">\n",
       "  <thead>\n",
       "    <tr style=\"text-align: right;\">\n",
       "      <th></th>\n",
       "      <th>stand__pregnancy</th>\n",
       "      <th>stand__glucose_level_2hr</th>\n",
       "      <th>stand__Diastolic_BP</th>\n",
       "      <th>stand__skin_fold_thickness</th>\n",
       "      <th>stand__Insulin_2hrs</th>\n",
       "      <th>stand__BMI</th>\n",
       "      <th>stand__Diabetes_pedigree</th>\n",
       "      <th>stand__Age</th>\n",
       "    </tr>\n",
       "  </thead>\n",
       "  <tbody>\n",
       "    <tr>\n",
       "      <th>580</th>\n",
       "      <td>-1.133115</td>\n",
       "      <td>0.937627</td>\n",
       "      <td>1.424946</td>\n",
       "      <td>1.536073</td>\n",
       "      <td>0.019004</td>\n",
       "      <td>1.290905</td>\n",
       "      <td>-0.300272</td>\n",
       "      <td>-1.056545</td>\n",
       "    </tr>\n",
       "    <tr>\n",
       "      <th>418</th>\n",
       "      <td>-0.839162</td>\n",
       "      <td>-1.296062</td>\n",
       "      <td>-0.426547</td>\n",
       "      <td>0.119604</td>\n",
       "      <td>0.019004</td>\n",
       "      <td>-2.662041</td>\n",
       "      <td>0.456991</td>\n",
       "      <td>-0.556223</td>\n",
       "    </tr>\n",
       "    <tr>\n",
       "      <th>764</th>\n",
       "      <td>-0.545209</td>\n",
       "      <td>-0.014976</td>\n",
       "      <td>-0.258229</td>\n",
       "      <td>-0.099796</td>\n",
       "      <td>0.019004</td>\n",
       "      <td>0.656691</td>\n",
       "      <td>-0.393059</td>\n",
       "      <td>-0.556223</td>\n",
       "    </tr>\n",
       "    <tr>\n",
       "      <th>363</th>\n",
       "      <td>0.042697</td>\n",
       "      <td>0.773385</td>\n",
       "      <td>0.415041</td>\n",
       "      <td>0.119604</td>\n",
       "      <td>0.019004</td>\n",
       "      <td>0.869559</td>\n",
       "      <td>0.145705</td>\n",
       "      <td>2.779253</td>\n",
       "    </tr>\n",
       "    <tr>\n",
       "      <th>757</th>\n",
       "      <td>-1.133115</td>\n",
       "      <td>0.017872</td>\n",
       "      <td>-0.089912</td>\n",
       "      <td>0.119604</td>\n",
       "      <td>0.019004</td>\n",
       "      <td>0.592209</td>\n",
       "      <td>-0.638496</td>\n",
       "      <td>1.528450</td>\n",
       "    </tr>\n",
       "  </tbody>\n",
       "</table>\n",
       "</div>"
      ],
      "text/plain": [
       "     stand__pregnancy  stand__glucose_level_2hr  stand__Diastolic_BP  \\\n",
       "580         -1.133115                  0.937627             1.424946   \n",
       "418         -0.839162                 -1.296062            -0.426547   \n",
       "764         -0.545209                 -0.014976            -0.258229   \n",
       "363          0.042697                  0.773385             0.415041   \n",
       "757         -1.133115                  0.017872            -0.089912   \n",
       "\n",
       "     stand__skin_fold_thickness  stand__Insulin_2hrs  stand__BMI  \\\n",
       "580                    1.536073             0.019004    1.290905   \n",
       "418                    0.119604             0.019004   -2.662041   \n",
       "764                   -0.099796             0.019004    0.656691   \n",
       "363                    0.119604             0.019004    0.869559   \n",
       "757                    0.119604             0.019004    0.592209   \n",
       "\n",
       "     stand__Diabetes_pedigree  stand__Age  \n",
       "580                 -0.300272   -1.056545  \n",
       "418                  0.456991   -0.556223  \n",
       "764                 -0.393059   -0.556223  \n",
       "363                  0.145705    2.779253  \n",
       "757                 -0.638496    1.528450  "
      ]
     },
     "execution_count": 44,
     "metadata": {},
     "output_type": "execute_result"
    }
   ],
   "source": [
    "X_train.head()"
   ]
  },
  {
   "cell_type": "code",
   "execution_count": null,
   "id": "ee676ef4",
   "metadata": {},
   "outputs": [],
   "source": []
  },
  {
   "cell_type": "markdown",
   "id": "169547b2",
   "metadata": {},
   "source": [
    "# HyperParameters Optimization"
   ]
  },
  {
   "cell_type": "code",
   "execution_count": 45,
   "id": "718f6ff1",
   "metadata": {},
   "outputs": [],
   "source": [
    "X_train, X_test, y_train, y_test = train_test_split(\n",
    "    data.drop(labels=['diabetes'], axis=1),  # drop the target\n",
    "    data['diabetes'],  # just the target\n",
    "    test_size=0.30,\n",
    "    random_state=0)\n",
    "\n",
    "X_train.shape, y_train.shape, X_test.shape, y_test.shape\n",
    "\n",
    "pipe = Pipeline ([('mean_imputation',mean_imputer),\n",
    "                         ('median_imputation', median_imputer),\n",
    "                         ('log_trans',lt),\n",
    "                         ('stand_scale', stand_scaler),])\n",
    "#transform datasets\n",
    "X_train = pipe.transform(X_train)\n",
    "X_test = pipe.transform(X_test)"
   ]
  },
  {
   "cell_type": "code",
   "execution_count": null,
   "id": "7925154e",
   "metadata": {},
   "outputs": [],
   "source": []
  },
  {
   "cell_type": "markdown",
   "id": "77c9ad56",
   "metadata": {},
   "source": [
    "## LogisticRegression"
   ]
  },
  {
   "cell_type": "code",
   "execution_count": 46,
   "id": "070b32a6",
   "metadata": {},
   "outputs": [],
   "source": [
    "# Dictionary to save models performance\n",
    "roc_train = {}\n",
    "roc_test = {}"
   ]
  },
  {
   "cell_type": "code",
   "execution_count": 47,
   "id": "792d87c6",
   "metadata": {},
   "outputs": [
    {
     "data": {
      "text/plain": [
       "{'C': 0.1, 'penalty': 'l2'}"
      ]
     },
     "execution_count": 47,
     "metadata": {},
     "output_type": "execute_result"
    }
   ],
   "source": [
    "# Logistic Regression\n",
    "logit = LogisticRegression(\n",
    "    penalty ='l2', C=1, solver='liblinear', random_state=4, max_iter=10000)\n",
    "\n",
    "# hyperparameter space\n",
    "param_grid = dict(\n",
    "    penalty=['l1', 'l2'],\n",
    "    C=[0.1, 1, 10],\n",
    ")\n",
    "\n",
    "# K-Fold Cross-Validation\n",
    "kf = KFold(n_splits=5, shuffle=True, random_state=4)\n",
    "\n",
    "# search\n",
    "clf =  GridSearchCV(\n",
    "    logit,\n",
    "    param_grid,\n",
    "    scoring='roc_auc',\n",
    "    cv=kf, # k-fold\n",
    "    refit=True, # refits best model to entire dataset\n",
    ")\n",
    "\n",
    "search = clf.fit(X_train, y_train)\n",
    "\n",
    "# best hyperparameters\n",
    "search.best_params_"
   ]
  },
  {
   "cell_type": "code",
   "execution_count": null,
   "id": "3bb16a0d",
   "metadata": {},
   "outputs": [],
   "source": []
  },
  {
   "cell_type": "code",
   "execution_count": 48,
   "id": "4fa897c8",
   "metadata": {},
   "outputs": [
    {
     "name": "stdout",
     "output_type": "stream",
     "text": [
      "Best Parameters:  {'C': 0.1, 'penalty': 'l2'}\n",
      "\n",
      "Train roc_auc:  0.8487421478164168\n",
      "Test roc_auc:  0.8375796178343949\n"
     ]
    }
   ],
   "source": [
    "# let's get the predictions\n",
    "train_preds = search.predict_proba(X_train)\n",
    "test_preds = search.predict_proba(X_test)\n",
    "\n",
    "\n",
    "print('Best Parameters: ',search.best_params_)\n",
    "print()\n",
    "print('Train roc_auc: ', roc_auc_score(y_train, (train_preds[:,1])))\n",
    "print('Test roc_auc: ', roc_auc_score(y_test, test_preds[:,1]))\n",
    "\n",
    "\n",
    "roc_test[\"LogisticRegression\"] = roc_auc_score(y_test, test_preds[:,1])\n",
    "roc_train[\"LogisticRegression\"] = roc_auc_score(y_train, train_preds[:,1])"
   ]
  },
  {
   "cell_type": "code",
   "execution_count": null,
   "id": "d28192cb",
   "metadata": {},
   "outputs": [],
   "source": []
  },
  {
   "cell_type": "markdown",
   "id": "2468e4f1",
   "metadata": {},
   "source": [
    "## GradientBoosting"
   ]
  },
  {
   "cell_type": "code",
   "execution_count": 49,
   "id": "c2348224",
   "metadata": {},
   "outputs": [],
   "source": [
    "gbm = GradientBoostingClassifier(random_state=0, max_depth = 4,min_samples_split = 0.3,n_estimators = 10)\n"
   ]
  },
  {
   "cell_type": "code",
   "execution_count": 50,
   "id": "0cb170ae",
   "metadata": {},
   "outputs": [
    {
     "data": {
      "text/plain": [
       "{'max_depth': 4, 'min_samples_split': 0.3, 'n_estimators': 10}"
      ]
     },
     "execution_count": 50,
     "metadata": {},
     "output_type": "execute_result"
    }
   ],
   "source": [
    "# set up the model\n",
    "gbm = GradientBoostingClassifier(random_state=0)\n",
    "\n",
    "# determine the hyperparameter space\n",
    "param_grid = dict(\n",
    "    n_estimators=[10, 20, 50, 100],\n",
    "    min_samples_split=[0.1, 0.3, 0.5],\n",
    "    max_depth=[1,2,3,4,None],\n",
    "    )\n",
    "\n",
    "\n",
    "# K-Fold Cross-Validation\n",
    "kf = KFold(n_splits=5, shuffle=True, random_state=4)\n",
    "\n",
    "# search\n",
    "clf =  GridSearchCV(\n",
    "    gbm,\n",
    "    param_grid,\n",
    "    scoring='roc_auc',\n",
    "    cv=kf, # k-fold\n",
    "    refit=True, # refits best model to entire dataset\n",
    ")\n",
    "\n",
    "search = clf.fit(X_train, y_train)\n",
    "\n",
    "# best hyperparameters\n",
    "search.best_params_"
   ]
  },
  {
   "cell_type": "code",
   "execution_count": 51,
   "id": "3479aebc",
   "metadata": {},
   "outputs": [
    {
     "name": "stdout",
     "output_type": "stream",
     "text": [
      "Best Parameters:  {'max_depth': 4, 'min_samples_split': 0.3, 'n_estimators': 10}\n",
      "\n",
      "Train roc_auc:  0.8910612846022061\n",
      "Test roc_auc:  0.8320709244276123\n"
     ]
    }
   ],
   "source": [
    "# let's get the predictions\n",
    "train_preds = search.predict_proba(X_train)\n",
    "test_preds = search.predict_proba(X_test)\n",
    "\n",
    "\n",
    "print('Best Parameters: ',search.best_params_)\n",
    "print()\n",
    "print('Train roc_auc: ', roc_auc_score(y_train, (train_preds[:,1])))\n",
    "print('Test roc_auc: ', roc_auc_score(y_test, test_preds[:,1]))\n",
    "\n",
    "\n",
    "roc_test[\"GradientBoosting\"] = roc_auc_score(y_test, test_preds[:,1])\n",
    "roc_train[\"GradientBoosting\"] = roc_auc_score(y_train, train_preds[:,1])"
   ]
  },
  {
   "cell_type": "markdown",
   "id": "1c303b91",
   "metadata": {},
   "source": [
    "## svm"
   ]
  },
  {
   "cell_type": "code",
   "execution_count": 52,
   "id": "043a785f",
   "metadata": {},
   "outputs": [
    {
     "data": {
      "text/plain": [
       "{'C': 10, 'gamma': 0.001, 'kernel': 'rbf'}"
      ]
     },
     "execution_count": 52,
     "metadata": {},
     "output_type": "execute_result"
    }
   ],
   "source": [
    "# set up the model\n",
    "svm = SVC(random_state=0, probability=True)\n",
    "\n",
    "# determine the hyperparameter space\n",
    "param_grid = [\n",
    "  {'C': [1, 10, 100, 1000], 'kernel': ['linear']},\n",
    "  {'C': [1, 10, 100, 1000], 'gamma': [0.01, 0.001, 0.0001], 'kernel': ['rbf']},\n",
    " ]\n",
    "\n",
    "\n",
    "# K-Fold Cross-Validation\n",
    "kf = KFold(n_splits=5, shuffle=True, random_state=4)\n",
    "\n",
    "# search\n",
    "clf =  GridSearchCV(\n",
    "    svm,\n",
    "    param_grid,\n",
    "    scoring='roc_auc',\n",
    "    cv=kf, # k-fold\n",
    "    refit=True, # refits best model to entire dataset\n",
    ")\n",
    "\n",
    "search = clf.fit(X_train, y_train)\n",
    "\n",
    "# best hyperparameters\n",
    "search.best_params_"
   ]
  },
  {
   "cell_type": "code",
   "execution_count": null,
   "id": "1066bffb",
   "metadata": {},
   "outputs": [],
   "source": []
  },
  {
   "cell_type": "code",
   "execution_count": 53,
   "id": "b07171e7",
   "metadata": {},
   "outputs": [
    {
     "name": "stdout",
     "output_type": "stream",
     "text": [
      "Best Parameters:  {'C': 10, 'gamma': 0.001, 'kernel': 'rbf'}\n",
      "\n",
      "Train roc_auc:  0.8490427098674521\n",
      "Test roc_auc:  0.8343088311241177\n"
     ]
    }
   ],
   "source": [
    "# let's get the predictions\n",
    "train_preds = search.predict_proba(X_train)\n",
    "test_preds = search.predict_proba(X_test)\n",
    "\n",
    "\n",
    "print('Best Parameters: ',search.best_params_)\n",
    "print()\n",
    "print('Train roc_auc: ', roc_auc_score(y_train, (train_preds[:,1])))\n",
    "print('Test roc_auc: ', roc_auc_score(y_test, test_preds[:,1]))\n",
    "\n",
    "\n",
    "\n",
    "\n",
    "roc_test[\"SupportVectorClassifier\"] = roc_auc_score(y_test, test_preds[:,1])\n",
    "roc_train[\"SupportVectorClassifier\"] = roc_auc_score(y_train, train_preds[:,1])"
   ]
  },
  {
   "cell_type": "markdown",
   "id": "bb5f5228",
   "metadata": {},
   "source": [
    "## RF"
   ]
  },
  {
   "cell_type": "code",
   "execution_count": 54,
   "id": "5f03920b",
   "metadata": {},
   "outputs": [
    {
     "data": {
      "text/plain": [
       "{'criterion': 'entropy',\n",
       " 'max_depth': 4,\n",
       " 'max_features': 'log2',\n",
       " 'n_estimators': 700}"
      ]
     },
     "execution_count": 54,
     "metadata": {},
     "output_type": "execute_result"
    }
   ],
   "source": [
    "rf = RandomForestClassifier()\n",
    "\n",
    "param_grid = { \n",
    "    'n_estimators': [400, 500,700,800],\n",
    "    'max_features': [ 'sqrt', 'log2'],\n",
    "    'max_depth' : [4,5,6,7,8],\n",
    "    'criterion' :['gini', 'entropy']\n",
    "}\n",
    "\n",
    "\n",
    "# K-Fold Cross-Validation\n",
    "kf = KFold(n_splits=5, shuffle=True, random_state=4)\n",
    "\n",
    "# search\n",
    "clf =  GridSearchCV(\n",
    "    rf,\n",
    "    param_grid,\n",
    "    scoring='roc_auc',\n",
    "    cv=kf, # k-fold\n",
    "    refit=True, # refits best model to entire dataset\n",
    ")\n",
    "\n",
    "search = clf.fit(X_train, y_train)\n",
    "\n",
    "# best hyperparameters\n",
    "search.best_params_"
   ]
  },
  {
   "cell_type": "code",
   "execution_count": 55,
   "id": "33f595fc",
   "metadata": {},
   "outputs": [
    {
     "name": "stdout",
     "output_type": "stream",
     "text": [
      "Best Parameters:  {'criterion': 'entropy', 'max_depth': 4, 'max_features': 'log2', 'n_estimators': 700}\n",
      "\n",
      "Train roc_auc:  0.9147305461212467\n",
      "Test roc_auc:  0.8394732311929765\n"
     ]
    }
   ],
   "source": [
    "# let's get the predictions\n",
    "train_preds = search.predict_proba(X_train)\n",
    "test_preds = search.predict_proba(X_test)\n",
    "\n",
    "\n",
    "print('Best Parameters: ',search.best_params_)\n",
    "print()\n",
    "print('Train roc_auc: ', roc_auc_score(y_train, (train_preds[:,1])))\n",
    "print('Test roc_auc: ', roc_auc_score(y_test, test_preds[:,1]))\n",
    "\n",
    "roc_test[\"RandomForest\"] = roc_auc_score(y_test, test_preds[:,1])\n",
    "roc_train[\"RandomForest\"] = roc_auc_score(y_train, train_preds[:,1])"
   ]
  },
  {
   "cell_type": "markdown",
   "id": "75ed0479",
   "metadata": {},
   "source": [
    "## KNN"
   ]
  },
  {
   "cell_type": "code",
   "execution_count": 56,
   "id": "2905519b",
   "metadata": {},
   "outputs": [
    {
     "data": {
      "text/plain": [
       "{'metric': 'euclidean', 'n_neighbors': 7, 'weights': 'uniform'}"
      ]
     },
     "execution_count": 56,
     "metadata": {},
     "output_type": "execute_result"
    }
   ],
   "source": [
    "knn = KNeighborsClassifier()\n",
    "\n",
    "param_grid = { \n",
    "    'n_neighbors': [1,2,3,4,5,6,7,8],\n",
    "    'weights': ['uniform', 'distance'],\n",
    "    'metric' :['euclidean', 'manhattan']\n",
    "}\n",
    "\n",
    "# K-Fold Cross-Validation\n",
    "kf = KFold(n_splits=5, shuffle=True, random_state=4)\n",
    "\n",
    "# search\n",
    "clf =  GridSearchCV(\n",
    "    knn,\n",
    "    param_grid,\n",
    "    scoring='roc_auc',\n",
    "    cv=kf, # k-fold\n",
    "    refit=True, # refits best model to entire dataset\n",
    ")\n",
    "\n",
    "search = clf.fit(X_train, y_train)\n",
    "\n",
    "# best hyperparameters\n",
    "search.best_params_"
   ]
  },
  {
   "cell_type": "code",
   "execution_count": 57,
   "id": "fd66742c",
   "metadata": {},
   "outputs": [
    {
     "name": "stdout",
     "output_type": "stream",
     "text": [
      "Best Parameters:  {'metric': 'euclidean', 'n_neighbors': 7, 'weights': 'uniform'}\n",
      "\n",
      "Train roc_auc:  0.8917676054221394\n",
      "Test roc_auc:  0.81954725426063\n"
     ]
    }
   ],
   "source": [
    "# let's get the predictions\n",
    "train_preds = search.predict_proba(X_train)\n",
    "test_preds = search.predict_proba(X_test)\n",
    "\n",
    "print('Best Parameters: ',search.best_params_)\n",
    "print()\n",
    "print('Train roc_auc: ', roc_auc_score(y_train, (train_preds[:,1])))\n",
    "print('Test roc_auc: ', roc_auc_score(y_test, test_preds[:,1]))\n",
    "\n",
    "roc_test[\"KNeighbors\"] = roc_auc_score(y_test, test_preds[:,1])\n",
    "roc_train[\"KNeighbors\"] = roc_auc_score(y_train, train_preds[:,1])"
   ]
  },
  {
   "cell_type": "code",
   "execution_count": null,
   "id": "92b1ede4",
   "metadata": {},
   "outputs": [],
   "source": []
  },
  {
   "cell_type": "code",
   "execution_count": 58,
   "id": "5ee4a904",
   "metadata": {},
   "outputs": [
    {
     "data": {
      "text/plain": [
       "{'LogisticRegression': 0.8375796178343949,\n",
       " 'GradientBoosting': 0.8320709244276123,\n",
       " 'SupportVectorClassifier': 0.8343088311241177,\n",
       " 'RandomForest': 0.8394732311929765,\n",
       " 'KNeighbors': 0.81954725426063}"
      ]
     },
     "execution_count": 58,
     "metadata": {},
     "output_type": "execute_result"
    }
   ],
   "source": [
    "roc_test"
   ]
  },
  {
   "cell_type": "code",
   "execution_count": 59,
   "id": "9d5316bd",
   "metadata": {},
   "outputs": [
    {
     "data": {
      "text/plain": [
       "{'LogisticRegression': 0.8487421478164168,\n",
       " 'GradientBoosting': 0.8910612846022061,\n",
       " 'SupportVectorClassifier': 0.8490427098674521,\n",
       " 'RandomForest': 0.9147305461212467,\n",
       " 'KNeighbors': 0.8917676054221394}"
      ]
     },
     "execution_count": 59,
     "metadata": {},
     "output_type": "execute_result"
    }
   ],
   "source": [
    "roc_train"
   ]
  },
  {
   "cell_type": "code",
   "execution_count": 60,
   "id": "b1ef2c8a",
   "metadata": {},
   "outputs": [],
   "source": [
    "# Convert dic to dataframe\n",
    "test = pd.DataFrame.from_dict(roc_test, orient='index',\n",
    "                       columns=['roc_auc_test'])\n",
    "#test"
   ]
  },
  {
   "cell_type": "code",
   "execution_count": 61,
   "id": "0824f167",
   "metadata": {},
   "outputs": [],
   "source": [
    "# Convert dic to dataframe\n",
    "train = pd.DataFrame.from_dict(roc_train, orient='index',\n",
    "                       columns=['roc_auc_train'])\n",
    "#train"
   ]
  },
  {
   "cell_type": "code",
   "execution_count": 62,
   "id": "4c56974d",
   "metadata": {},
   "outputs": [
    {
     "data": {
      "text/html": [
       "<div>\n",
       "<style scoped>\n",
       "    .dataframe tbody tr th:only-of-type {\n",
       "        vertical-align: middle;\n",
       "    }\n",
       "\n",
       "    .dataframe tbody tr th {\n",
       "        vertical-align: top;\n",
       "    }\n",
       "\n",
       "    .dataframe thead th {\n",
       "        text-align: right;\n",
       "    }\n",
       "</style>\n",
       "<table border=\"1\" class=\"dataframe\">\n",
       "  <thead>\n",
       "    <tr style=\"text-align: right;\">\n",
       "      <th></th>\n",
       "      <th>roc_auc_test</th>\n",
       "      <th>roc_auc_train</th>\n",
       "    </tr>\n",
       "  </thead>\n",
       "  <tbody>\n",
       "    <tr>\n",
       "      <th>LogisticRegression</th>\n",
       "      <td>0.837580</td>\n",
       "      <td>0.848742</td>\n",
       "    </tr>\n",
       "    <tr>\n",
       "      <th>GradientBoosting</th>\n",
       "      <td>0.832071</td>\n",
       "      <td>0.891061</td>\n",
       "    </tr>\n",
       "    <tr>\n",
       "      <th>SupportVectorClassifier</th>\n",
       "      <td>0.834309</td>\n",
       "      <td>0.849043</td>\n",
       "    </tr>\n",
       "    <tr>\n",
       "      <th>RandomForest</th>\n",
       "      <td>0.839473</td>\n",
       "      <td>0.914731</td>\n",
       "    </tr>\n",
       "    <tr>\n",
       "      <th>KNeighbors</th>\n",
       "      <td>0.819547</td>\n",
       "      <td>0.891768</td>\n",
       "    </tr>\n",
       "  </tbody>\n",
       "</table>\n",
       "</div>"
      ],
      "text/plain": [
       "                         roc_auc_test  roc_auc_train\n",
       "LogisticRegression           0.837580       0.848742\n",
       "GradientBoosting             0.832071       0.891061\n",
       "SupportVectorClassifier      0.834309       0.849043\n",
       "RandomForest                 0.839473       0.914731\n",
       "KNeighbors                   0.819547       0.891768"
      ]
     },
     "execution_count": 62,
     "metadata": {},
     "output_type": "execute_result"
    }
   ],
   "source": [
    "# merge test and train scores\n",
    "scores = test.merge(train,left_index=True, right_index=True)\n",
    "scores"
   ]
  },
  {
   "cell_type": "markdown",
   "id": "948ad79b",
   "metadata": {},
   "source": [
    "It seems that apart from 'KNeighbors', all algorithms' give comparable scores on test data. Looking at train data result, 'LogisticRegression' and 'SupportVectorClassifier' showd less overfitting as scores obtained from train and test data are closer.\n",
    "\n",
    "In following cells performance of 'LogisticRegression' and 'SupportVectorClassifier' will be checked and compared."
   ]
  },
  {
   "cell_type": "markdown",
   "id": "34e4f644",
   "metadata": {},
   "source": [
    "# Performance Evaluation using Confusion_matrix and ClassificationReport\n"
   ]
  },
  {
   "cell_type": "markdown",
   "id": "31b9c835",
   "metadata": {},
   "source": [
    "## LogisticRegression"
   ]
  },
  {
   "cell_type": "code",
   "execution_count": 63,
   "id": "ae0b2ead",
   "metadata": {},
   "outputs": [
    {
     "data": {
      "text/plain": [
       "array([[141,  16],\n",
       "       [ 38,  36]])"
      ]
     },
     "execution_count": 63,
     "metadata": {},
     "output_type": "execute_result"
    }
   ],
   "source": [
    "logit = LogisticRegression(\n",
    "    penalty ='l2', C=1, solver='liblinear', random_state=4, max_iter=10000)\n",
    "\n",
    "\n",
    "logit.fit(X_train, y_train)\n",
    "y_pred = logit.predict(X_test)\n",
    "\n",
    "confusion_matrix(y_test, y_pred, labels=[0,1])"
   ]
  },
  {
   "cell_type": "code",
   "execution_count": null,
   "id": "a8050da8",
   "metadata": {},
   "outputs": [],
   "source": []
  },
  {
   "cell_type": "code",
   "execution_count": 64,
   "id": "34c747a5",
   "metadata": {},
   "outputs": [
    {
     "name": "stderr",
     "output_type": "stream",
     "text": [
      "/Users/mwlodghareeb/anaconda3/lib/python3.10/site-packages/sklearn/base.py:439: UserWarning: X does not have valid feature names, but LogisticRegression was fitted with feature names\n",
      "  warnings.warn(\n"
     ]
    },
    {
     "data": {
      "image/png": "[encoded data removed]",
      "text/plain": [
       "<Figure size 800x550 with 2 Axes>"
      ]
     },
     "metadata": {},
     "output_type": "display_data"
    },
    {
     "data": {
      "text/plain": [
       "<Axes: title={'center': 'LogisticRegression Classification Report'}>"
      ]
     },
     "execution_count": 64,
     "metadata": {},
     "output_type": "execute_result"
    }
   ],
   "source": [
    "\n",
    "visualizer = ClassificationReport(logit)\n",
    "\n",
    "visualizer.fit(X_train, y_train)        # Fit the visualizer and the model\n",
    "visualizer.score(X_test, y_test)        # Evaluate the model on the test data\n",
    "visualizer.show()                       # Finalize and show the figure"
   ]
  },
  {
   "cell_type": "code",
   "execution_count": null,
   "id": "03d26141",
   "metadata": {},
   "outputs": [],
   "source": []
  },
  {
   "cell_type": "markdown",
   "id": "36a7f0ec",
   "metadata": {},
   "source": [
    "## smv\n"
   ]
  },
  {
   "cell_type": "code",
   "execution_count": 65,
   "id": "6cb02e9b",
   "metadata": {},
   "outputs": [
    {
     "data": {
      "text/plain": [
       "array([[143,  14],\n",
       "       [ 39,  35]])"
      ]
     },
     "execution_count": 65,
     "metadata": {},
     "output_type": "execute_result"
    }
   ],
   "source": [
    "svm = SVC(random_state=0,C= 10,  kernel= 'rbf', gamma = 0.001 )\n",
    "\n",
    "svm.fit(X_train, y_train)\n",
    "y_pred = svm.predict(X_test)\n",
    "\n",
    "confusion_matrix(y_test, y_pred, labels=[0,1])"
   ]
  },
  {
   "cell_type": "code",
   "execution_count": 66,
   "id": "ec351023",
   "metadata": {},
   "outputs": [
    {
     "name": "stderr",
     "output_type": "stream",
     "text": [
      "/Users/mwlodghareeb/anaconda3/lib/python3.10/site-packages/sklearn/base.py:439: UserWarning: X does not have valid feature names, but SVC was fitted with feature names\n",
      "  warnings.warn(\n"
     ]
    },
    {
     "data": {
      "image/png": "[encoded data removed]",
      "text/plain": [
       "<Figure size 800x550 with 2 Axes>"
      ]
     },
     "metadata": {},
     "output_type": "display_data"
    },
    {
     "data": {
      "text/plain": [
       "<Axes: title={'center': 'SVC Classification Report'}>"
      ]
     },
     "execution_count": 66,
     "metadata": {},
     "output_type": "execute_result"
    }
   ],
   "source": [
    "\n",
    "visualizer = ClassificationReport(svm)\n",
    "\n",
    "visualizer.fit(X_train, y_train)        # Fit the visualizer and the model\n",
    "visualizer.score(X_test, y_test)        # Evaluate the model on the test data\n",
    "visualizer.show()                       # Finalize and show the figure"
   ]
  },
  {
   "cell_type": "code",
   "execution_count": null,
   "id": "b8199036",
   "metadata": {},
   "outputs": [],
   "source": []
  },
  {
   "cell_type": "markdown",
   "id": "66269211",
   "metadata": {},
   "source": [
    "Looking at confusion_matrix results and f1 score and recall of minority class both models have comparable performance. \n",
    "\n",
    "The cost of miss-identificatin of people being diabetic (False Negative) far more higher than classifying healthy people being at risk of diabetes (False Positive). Therefore \"Recall\" is the metric to optimise. Will continue using Logistic Regression."
   ]
  },
  {
   "cell_type": "markdown",
   "id": "8e8c0259",
   "metadata": {},
   "source": [
    "# Optimizing Recall"
   ]
  },
  {
   "cell_type": "markdown",
   "id": "ae22ee96",
   "metadata": {},
   "source": [
    "Plotting the precision-Recall curve for finding the **optimal threshold** Will continue using Logistic Regression.\n"
   ]
  },
  {
   "cell_type": "code",
   "execution_count": 67,
   "id": "c38a41f8",
   "metadata": {},
   "outputs": [],
   "source": [
    "# calculate and plot the Precision-Recall curve\n",
    "precision, recall, thresholds = precision_recall_curve(y_test, logit.predict_proba(X_test)[:, 1])\n"
   ]
  },
  {
   "cell_type": "code",
   "execution_count": 68,
   "id": "3200f578",
   "metadata": {},
   "outputs": [
    {
     "data": {
      "text/html": [
       "<div>\n",
       "<style scoped>\n",
       "    .dataframe tbody tr th:only-of-type {\n",
       "        vertical-align: middle;\n",
       "    }\n",
       "\n",
       "    .dataframe tbody tr th {\n",
       "        vertical-align: top;\n",
       "    }\n",
       "\n",
       "    .dataframe thead th {\n",
       "        text-align: right;\n",
       "    }\n",
       "</style>\n",
       "<table border=\"1\" class=\"dataframe\">\n",
       "  <thead>\n",
       "    <tr style=\"text-align: right;\">\n",
       "      <th></th>\n",
       "      <th>Precision</th>\n",
       "      <th>Recall</th>\n",
       "      <th>Threshold</th>\n",
       "    </tr>\n",
       "  </thead>\n",
       "  <tbody>\n",
       "    <tr>\n",
       "      <th>0</th>\n",
       "      <td>0.320346</td>\n",
       "      <td>1.0</td>\n",
       "      <td>0.011243</td>\n",
       "    </tr>\n",
       "    <tr>\n",
       "      <th>1</th>\n",
       "      <td>0.321739</td>\n",
       "      <td>1.0</td>\n",
       "      <td>0.013913</td>\n",
       "    </tr>\n",
       "    <tr>\n",
       "      <th>2</th>\n",
       "      <td>0.323144</td>\n",
       "      <td>1.0</td>\n",
       "      <td>0.015963</td>\n",
       "    </tr>\n",
       "    <tr>\n",
       "      <th>3</th>\n",
       "      <td>0.324561</td>\n",
       "      <td>1.0</td>\n",
       "      <td>0.018294</td>\n",
       "    </tr>\n",
       "    <tr>\n",
       "      <th>4</th>\n",
       "      <td>0.325991</td>\n",
       "      <td>1.0</td>\n",
       "      <td>0.019304</td>\n",
       "    </tr>\n",
       "  </tbody>\n",
       "</table>\n",
       "</div>"
      ],
      "text/plain": [
       "   Precision  Recall  Threshold\n",
       "0   0.320346     1.0   0.011243\n",
       "1   0.321739     1.0   0.013913\n",
       "2   0.323144     1.0   0.015963\n",
       "3   0.324561     1.0   0.018294\n",
       "4   0.325991     1.0   0.019304"
      ]
     },
     "execution_count": 68,
     "metadata": {},
     "output_type": "execute_result"
    }
   ],
   "source": [
    "## obtaing thresholds\n",
    "df_recall_precision = pd.DataFrame({'Precision':precision[:-1],\n",
    "                                    'Recall':recall[:-1],\n",
    "                                    'Threshold':thresholds})\n",
    "df_recall_precision.head()"
   ]
  },
  {
   "cell_type": "code",
   "execution_count": 69,
   "id": "52e0e2bf",
   "metadata": {},
   "outputs": [],
   "source": [
    "# Calculate the f-score\n",
    "fscore = (2 * precision * recall) / (precision + recall)\n",
    "#fscore"
   ]
  },
  {
   "cell_type": "code",
   "execution_count": 70,
   "id": "0d98321e",
   "metadata": {},
   "outputs": [
    {
     "name": "stdout",
     "output_type": "stream",
     "text": [
      "Best Threshold: 0.2177 with F-Score: 0.6667\n",
      "Recall: 0.8784, Precision: 0.5372\n"
     ]
    }
   ],
   "source": [
    "# Find the optimal threshold\n",
    "index = np.argmax(fscore)\n",
    "thresholdOpt = round(thresholds[index], ndigits = 4)\n",
    "fscoreOpt = round(fscore[index], ndigits = 4)\n",
    "recallOpt = round(recall[index], ndigits = 4)\n",
    "precisionOpt = round(precision[index], ndigits = 4)\n",
    "print('Best Threshold: {} with F-Score: {}'.format(thresholdOpt, fscoreOpt))\n",
    "print('Recall: {}, Precision: {}'.format(recallOpt, precisionOpt))"
   ]
  },
  {
   "cell_type": "code",
   "execution_count": 71,
   "id": "d1734b61",
   "metadata": {},
   "outputs": [
    {
     "data": {
      "image/png": "[encoded data removed]",
      "text/plain": [
       "<Figure size 900x480 with 1 Axes>"
      ]
     },
     "metadata": {
      "image/png": {
       "height": 480,
       "width": 900
      },
      "needs_background": "light"
     },
     "output_type": "display_data"
    },
    {
     "data": {
      "text/plain": [
       "<Figure Size: (900 x 480)>"
      ]
     },
     "execution_count": 71,
     "metadata": {},
     "output_type": "execute_result"
    }
   ],
   "source": [
    "# Plotting\n",
    "\n",
    "from plotnine import *\n",
    "import plotnine\n",
    "\n",
    "\n",
    "plotnine.options.figure_size = (9, 4.8)\n",
    "(\n",
    "    ggplot(data = df_recall_precision)+\n",
    "    geom_point(aes(x = 'Recall',\n",
    "                   y = 'Precision'),\n",
    "               size = 0.4)+\n",
    "    # Best threshold\n",
    "    geom_point(aes(x = recallOpt,\n",
    "                   y = precisionOpt),\n",
    "               color = '#981220',\n",
    "               size = 4)+\n",
    "    geom_line(aes(x = 'Recall',\n",
    "                  y = 'Precision'))+\n",
    "    # Annotate the text\n",
    "    geom_text(aes(x = recallOpt,\n",
    "                  y = precisionOpt),\n",
    "              label = 'Optimal threshold \\n for class: {}'.format(thresholdOpt),\n",
    "              nudge_x = 0.18,\n",
    "              nudge_y = 0,\n",
    "              size = 10,\n",
    "              fontstyle = 'italic')+\n",
    "    labs(title = 'Precision Recall Curve')+\n",
    "    xlab('Recall')+\n",
    "    ylab('Precision')+\n",
    "    theme_minimal()\n",
    ")\n"
   ]
  },
  {
   "cell_type": "code",
   "execution_count": null,
   "id": "98603b0b",
   "metadata": {},
   "outputs": [],
   "source": []
  },
  {
   "cell_type": "markdown",
   "id": "0dfe0b0c",
   "metadata": {},
   "source": [
    "## Applying threshold"
   ]
  },
  {
   "cell_type": "markdown",
   "id": "b32f7bca",
   "metadata": {},
   "source": [
    "### Applying defeault threshold (0.5)"
   ]
  },
  {
   "cell_type": "code",
   "execution_count": 72,
   "id": "b138da29",
   "metadata": {},
   "outputs": [],
   "source": [
    "# Returns a dataframe with classification metrics and confusion matrix values\n",
    "def make_classification_score(y_test, predictions, modelName):\n",
    "    tn, fp, fn, tp = confusion_matrix(y_test, predictions).ravel() # ravel() used to convert to a 1-D array\n",
    "    prec=precision_score(y_test, predictions)\n",
    "    rec=recall_score(y_test, predictions)\n",
    "    f1=f1_score(y_test, predictions)\n",
    "    acc=accuracy_score(y_test, predictions)\n",
    "    # specificity\n",
    "    spec=tn/(tn+fp)\n",
    "\n",
    "    score = {'Model': [modelName], 'Accuracy': [acc], 'f1': [f1], 'Recall': [rec], 'Precision': [prec], \\\n",
    "        'Specificity': [spec], 'TP': [tp], 'TN': [tn], 'FP': [fp], 'FN': [fn], 'y_test size': [len(y_test)]}\n",
    "    df_score = pd.DataFrame(data=score)\n",
    "    return df_score"
   ]
  },
  {
   "cell_type": "code",
   "execution_count": 73,
   "id": "656ca93e",
   "metadata": {},
   "outputs": [],
   "source": [
    "# from probability to class value\n",
    "def probs_to_prediction(probs, threshold):\n",
    "    pred=[]\n",
    "    for x in probs[:,1]:\n",
    "        if x>threshold:\n",
    "            pred.append(1)\n",
    "        else:\n",
    "            pred.append(0)\n",
    "    return pred"
   ]
  },
  {
   "cell_type": "code",
   "execution_count": 74,
   "id": "4a6967df",
   "metadata": {},
   "outputs": [
    {
     "data": {
      "text/html": [
       "<div>\n",
       "<style scoped>\n",
       "    .dataframe tbody tr th:only-of-type {\n",
       "        vertical-align: middle;\n",
       "    }\n",
       "\n",
       "    .dataframe tbody tr th {\n",
       "        vertical-align: top;\n",
       "    }\n",
       "\n",
       "    .dataframe thead th {\n",
       "        text-align: right;\n",
       "    }\n",
       "</style>\n",
       "<table border=\"1\" class=\"dataframe\">\n",
       "  <thead>\n",
       "    <tr style=\"text-align: right;\">\n",
       "      <th></th>\n",
       "      <th>Model</th>\n",
       "      <th>Accuracy</th>\n",
       "      <th>f1</th>\n",
       "      <th>Recall</th>\n",
       "      <th>Precision</th>\n",
       "      <th>Specificity</th>\n",
       "      <th>TP</th>\n",
       "      <th>TN</th>\n",
       "      <th>FP</th>\n",
       "      <th>FN</th>\n",
       "      <th>y_test size</th>\n",
       "    </tr>\n",
       "  </thead>\n",
       "  <tbody>\n",
       "    <tr>\n",
       "      <th>0</th>\n",
       "      <td>logit</td>\n",
       "      <td>0.766234</td>\n",
       "      <td>0.571429</td>\n",
       "      <td>0.486486</td>\n",
       "      <td>0.692308</td>\n",
       "      <td>0.898089</td>\n",
       "      <td>36</td>\n",
       "      <td>141</td>\n",
       "      <td>16</td>\n",
       "      <td>38</td>\n",
       "      <td>231</td>\n",
       "    </tr>\n",
       "  </tbody>\n",
       "</table>\n",
       "</div>"
      ],
      "text/plain": [
       "   Model  Accuracy        f1    Recall  Precision  Specificity  TP   TN  FP  \\\n",
       "0  logit  0.766234  0.571429  0.486486   0.692308     0.898089  36  141  16   \n",
       "\n",
       "   FN  y_test size  \n",
       "0  38          231  "
      ]
     },
     "execution_count": 74,
     "metadata": {},
     "output_type": "execute_result"
    }
   ],
   "source": [
    "# table for ou\n",
    "predictions = probs_to_prediction(logit.predict_proba(X_test), 0.5)\n",
    "make_classification_score(y_test, predictions, \"logit\")\n"
   ]
  },
  {
   "cell_type": "markdown",
   "id": "ed25b627",
   "metadata": {},
   "source": [
    "### Applying calcultaed threshold"
   ]
  },
  {
   "cell_type": "code",
   "execution_count": 75,
   "id": "b251358a",
   "metadata": {},
   "outputs": [
    {
     "data": {
      "text/html": [
       "<div>\n",
       "<style scoped>\n",
       "    .dataframe tbody tr th:only-of-type {\n",
       "        vertical-align: middle;\n",
       "    }\n",
       "\n",
       "    .dataframe tbody tr th {\n",
       "        vertical-align: top;\n",
       "    }\n",
       "\n",
       "    .dataframe thead th {\n",
       "        text-align: right;\n",
       "    }\n",
       "</style>\n",
       "<table border=\"1\" class=\"dataframe\">\n",
       "  <thead>\n",
       "    <tr style=\"text-align: right;\">\n",
       "      <th></th>\n",
       "      <th>Model</th>\n",
       "      <th>Accuracy</th>\n",
       "      <th>f1</th>\n",
       "      <th>Recall</th>\n",
       "      <th>Precision</th>\n",
       "      <th>Specificity</th>\n",
       "      <th>TP</th>\n",
       "      <th>TN</th>\n",
       "      <th>FP</th>\n",
       "      <th>FN</th>\n",
       "      <th>y_test size</th>\n",
       "    </tr>\n",
       "  </thead>\n",
       "  <tbody>\n",
       "    <tr>\n",
       "      <th>0</th>\n",
       "      <td>logit</td>\n",
       "      <td>0.701299</td>\n",
       "      <td>0.653266</td>\n",
       "      <td>0.878378</td>\n",
       "      <td>0.52</td>\n",
       "      <td>0.617834</td>\n",
       "      <td>65</td>\n",
       "      <td>97</td>\n",
       "      <td>60</td>\n",
       "      <td>9</td>\n",
       "      <td>231</td>\n",
       "    </tr>\n",
       "  </tbody>\n",
       "</table>\n",
       "</div>"
      ],
      "text/plain": [
       "   Model  Accuracy        f1    Recall  Precision  Specificity  TP  TN  FP  \\\n",
       "0  logit  0.701299  0.653266  0.878378       0.52     0.617834  65  97  60   \n",
       "\n",
       "   FN  y_test size  \n",
       "0   9          231  "
      ]
     },
     "execution_count": 75,
     "metadata": {},
     "output_type": "execute_result"
    }
   ],
   "source": [
    "predictions = probs_to_prediction(logit.predict_proba(X_test), 0.21)\n",
    "make_classification_score(y_test, predictions, \"logit\")\n"
   ]
  },
  {
   "cell_type": "markdown",
   "id": "5d4760e0",
   "metadata": {},
   "source": [
    "Applying the optimal calcultated Threshold (0.21):\n",
    "- incresed the recall to 0.87 from 0.48 and decreased False negative from 38 to 9.\n"
   ]
  },
  {
   "cell_type": "code",
   "execution_count": null,
   "id": "0e8414aa",
   "metadata": {},
   "outputs": [],
   "source": []
  }
 ],
 "metadata": {
  "kernelspec": {
   "display_name": "Python 3 (ipykernel)",
   "language": "python",
   "name": "python3"
  },
  "language_info": {
   "codemirror_mode": {
    "name": "ipython",
    "version": 3
   },
   "file_extension": ".py",
   "mimetype": "text/x-python",
   "name": "python",
   "nbconvert_exporter": "python",
   "pygments_lexer": "ipython3",
   "version": "3.10.8"
  },
  "toc": {
   "base_numbering": 1,
   "nav_menu": {},
   "number_sections": true,
   "sideBar": true,
   "skip_h1_title": false,
   "title_cell": "Table of Contents",
   "title_sidebar": "Contents",
   "toc_cell": false,
   "toc_position": {
    "height": "calc(100% - 180px)",
    "left": "10px",
    "top": "150px",
    "width": "208.125px"
   },
   "toc_section_display": true,
   "toc_window_display": true
  }
 },
 "nbformat": 4,
 "nbformat_minor": 5
}
